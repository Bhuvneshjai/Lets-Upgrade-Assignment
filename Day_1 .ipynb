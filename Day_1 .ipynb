{
 "cells": [
  {
   "cell_type": "code",
   "execution_count": 92,
   "id": "99b9b9c0",
   "metadata": {},
   "outputs": [
    {
     "data": {
      "text/plain": [
       "4"
      ]
     },
     "execution_count": 92,
     "metadata": {},
     "output_type": "execute_result"
    }
   ],
   "source": [
    "2+2"
   ]
  },
  {
   "cell_type": "code",
   "execution_count": 93,
   "id": "4b5eceb1",
   "metadata": {},
   "outputs": [
    {
     "data": {
      "text/plain": [
       "1"
      ]
     },
     "execution_count": 93,
     "metadata": {},
     "output_type": "execute_result"
    }
   ],
   "source": [
    "5-4"
   ]
  },
  {
   "cell_type": "code",
   "execution_count": 94,
   "id": "76f80b3a",
   "metadata": {},
   "outputs": [
    {
     "data": {
      "text/plain": [
       "2.5"
      ]
     },
     "execution_count": 94,
     "metadata": {},
     "output_type": "execute_result"
    }
   ],
   "source": [
    "5/2"
   ]
  },
  {
   "cell_type": "code",
   "execution_count": 95,
   "id": "1fb79bc5",
   "metadata": {},
   "outputs": [
    {
     "data": {
      "text/plain": [
       "2"
      ]
     },
     "execution_count": 95,
     "metadata": {},
     "output_type": "execute_result"
    }
   ],
   "source": [
    "5//2"
   ]
  },
  {
   "cell_type": "code",
   "execution_count": 96,
   "id": "fc09f692",
   "metadata": {},
   "outputs": [
    {
     "data": {
      "text/plain": [
       "2"
      ]
     },
     "execution_count": 96,
     "metadata": {},
     "output_type": "execute_result"
    }
   ],
   "source": [
    "import math\n",
    "math.ceil(1.6)\n"
   ]
  },
  {
   "cell_type": "code",
   "execution_count": 97,
   "id": "e98c614a",
   "metadata": {},
   "outputs": [
    {
     "data": {
      "text/plain": [
       "1"
      ]
     },
     "execution_count": 97,
     "metadata": {},
     "output_type": "execute_result"
    }
   ],
   "source": [
    "math.floor(1.6)"
   ]
  },
  {
   "cell_type": "code",
   "execution_count": 98,
   "id": "7e8c91d8",
   "metadata": {},
   "outputs": [
    {
     "data": {
      "text/plain": [
       "2"
      ]
     },
     "execution_count": 98,
     "metadata": {},
     "output_type": "execute_result"
    }
   ],
   "source": [
    "8%3"
   ]
  },
  {
   "cell_type": "code",
   "execution_count": 99,
   "id": "08e901c3",
   "metadata": {},
   "outputs": [
    {
     "data": {
      "text/plain": [
       "15"
      ]
     },
     "execution_count": 99,
     "metadata": {},
     "output_type": "execute_result"
    }
   ],
   "source": [
    "3*5"
   ]
  },
  {
   "cell_type": "code",
   "execution_count": 100,
   "id": "2b1ff197",
   "metadata": {},
   "outputs": [
    {
     "data": {
      "text/plain": [
       "9.5"
      ]
     },
     "execution_count": 100,
     "metadata": {},
     "output_type": "execute_result"
    }
   ],
   "source": [
    "4+5.5"
   ]
  },
  {
   "cell_type": "code",
   "execution_count": 101,
   "id": "759b6d3f",
   "metadata": {},
   "outputs": [
    {
     "data": {
      "text/plain": [
       "10.0"
      ]
     },
     "execution_count": 101,
     "metadata": {},
     "output_type": "execute_result"
    }
   ],
   "source": [
    "4.5+5.5"
   ]
  },
  {
   "cell_type": "code",
   "execution_count": 102,
   "id": "0b281d52",
   "metadata": {},
   "outputs": [
    {
     "data": {
      "text/plain": [
       "4.0"
      ]
     },
     "execution_count": 102,
     "metadata": {},
     "output_type": "execute_result"
    }
   ],
   "source": [
    "9.0-5"
   ]
  },
  {
   "cell_type": "code",
   "execution_count": 103,
   "id": "4078f1b9",
   "metadata": {},
   "outputs": [
    {
     "data": {
      "text/plain": [
       "20.0"
      ]
     },
     "execution_count": 103,
     "metadata": {},
     "output_type": "execute_result"
    }
   ],
   "source": [
    "5*4.0"
   ]
  },
  {
   "cell_type": "code",
   "execution_count": 104,
   "id": "141635b9",
   "metadata": {},
   "outputs": [
    {
     "data": {
      "text/plain": [
       "2.5"
      ]
     },
     "execution_count": 104,
     "metadata": {},
     "output_type": "execute_result"
    }
   ],
   "source": [
    "5/2.0"
   ]
  },
  {
   "cell_type": "code",
   "execution_count": 105,
   "id": "1b578aea",
   "metadata": {},
   "outputs": [
    {
     "data": {
      "text/plain": [
       "8"
      ]
     },
     "execution_count": 105,
     "metadata": {},
     "output_type": "execute_result"
    }
   ],
   "source": [
    "2*2*2"
   ]
  },
  {
   "cell_type": "code",
   "execution_count": 106,
   "id": "d93d5ef9",
   "metadata": {},
   "outputs": [
    {
     "data": {
      "text/plain": [
       "16"
      ]
     },
     "execution_count": 106,
     "metadata": {},
     "output_type": "execute_result"
    }
   ],
   "source": [
    "2**4 # 2 raised 5 or 2 to the power of 4"
   ]
  },
  {
   "cell_type": "code",
   "execution_count": 107,
   "id": "917f9f43",
   "metadata": {},
   "outputs": [
    {
     "data": {
      "text/plain": [
       "'\\nSolve the Question \\nthis is the example of multiline comment\\n'"
      ]
     },
     "execution_count": 107,
     "metadata": {},
     "output_type": "execute_result"
    }
   ],
   "source": [
    "2*5+6\n",
    "'''\n",
    "Solve the Question \n",
    "this is the example of multiline comment\n",
    "'''"
   ]
  },
  {
   "cell_type": "code",
   "execution_count": 108,
   "id": "9817d575",
   "metadata": {},
   "outputs": [],
   "source": [
    "# Data Types\n",
    "age = 21"
   ]
  },
  {
   "cell_type": "code",
   "execution_count": 109,
   "id": "1d12574f",
   "metadata": {},
   "outputs": [
    {
     "data": {
      "text/plain": [
       "int"
      ]
     },
     "execution_count": 109,
     "metadata": {},
     "output_type": "execute_result"
    }
   ],
   "source": [
    "type(age)"
   ]
  },
  {
   "cell_type": "code",
   "execution_count": 110,
   "id": "caa52df7",
   "metadata": {},
   "outputs": [],
   "source": [
    "marks = 99.5"
   ]
  },
  {
   "cell_type": "code",
   "execution_count": 111,
   "id": "d7374187",
   "metadata": {},
   "outputs": [
    {
     "data": {
      "text/plain": [
       "float"
      ]
     },
     "execution_count": 111,
     "metadata": {},
     "output_type": "execute_result"
    }
   ],
   "source": [
    "type(marks)"
   ]
  },
  {
   "cell_type": "code",
   "execution_count": 112,
   "id": "4d356a31",
   "metadata": {},
   "outputs": [],
   "source": [
    "name = 'Bhuvnesh Jain'"
   ]
  },
  {
   "cell_type": "code",
   "execution_count": 113,
   "id": "b4b75cb0",
   "metadata": {},
   "outputs": [
    {
     "data": {
      "text/plain": [
       "str"
      ]
     },
     "execution_count": 113,
     "metadata": {},
     "output_type": "execute_result"
    }
   ],
   "source": [
    "type(name)"
   ]
  },
  {
   "cell_type": "code",
   "execution_count": 114,
   "id": "7b419570",
   "metadata": {},
   "outputs": [],
   "source": [
    "istrue = True\n",
    "isfalse = False"
   ]
  },
  {
   "cell_type": "code",
   "execution_count": 115,
   "id": "b1b29307",
   "metadata": {},
   "outputs": [
    {
     "data": {
      "text/plain": [
       "bool"
      ]
     },
     "execution_count": 115,
     "metadata": {},
     "output_type": "execute_result"
    }
   ],
   "source": [
    "type(istrue)"
   ]
  },
  {
   "cell_type": "code",
   "execution_count": 116,
   "id": "5134d779",
   "metadata": {},
   "outputs": [
    {
     "data": {
      "text/plain": [
       "bool"
      ]
     },
     "execution_count": 116,
     "metadata": {},
     "output_type": "execute_result"
    }
   ],
   "source": [
    "type(isfalse)"
   ]
  },
  {
   "cell_type": "code",
   "execution_count": 117,
   "id": "cd214365",
   "metadata": {},
   "outputs": [
    {
     "data": {
      "text/plain": [
       "21"
      ]
     },
     "execution_count": 117,
     "metadata": {},
     "output_type": "execute_result"
    }
   ],
   "source": [
    "age"
   ]
  },
  {
   "cell_type": "code",
   "execution_count": 118,
   "id": "94b5114e",
   "metadata": {},
   "outputs": [
    {
     "data": {
      "text/plain": [
       "'Bhuvnesh Jain'"
      ]
     },
     "execution_count": 118,
     "metadata": {},
     "output_type": "execute_result"
    }
   ],
   "source": [
    "name"
   ]
  },
  {
   "cell_type": "code",
   "execution_count": 119,
   "id": "69b7ee22",
   "metadata": {},
   "outputs": [
    {
     "data": {
      "text/plain": [
       "True"
      ]
     },
     "execution_count": 119,
     "metadata": {},
     "output_type": "execute_result"
    }
   ],
   "source": [
    "istrue"
   ]
  },
  {
   "cell_type": "code",
   "execution_count": 120,
   "id": "33fe7d3c",
   "metadata": {},
   "outputs": [],
   "source": [
    "# List, Dict(JSON), Tuple\n",
    "list = []"
   ]
  },
  {
   "cell_type": "code",
   "execution_count": 121,
   "id": "6d106fd1",
   "metadata": {},
   "outputs": [
    {
     "data": {
      "text/plain": [
       "list"
      ]
     },
     "execution_count": 121,
     "metadata": {},
     "output_type": "execute_result"
    }
   ],
   "source": [
    "type(list)"
   ]
  },
  {
   "cell_type": "code",
   "execution_count": 122,
   "id": "faf18c85",
   "metadata": {},
   "outputs": [],
   "source": [
    "tuple = ()"
   ]
  },
  {
   "cell_type": "code",
   "execution_count": 123,
   "id": "c6e9a8b4",
   "metadata": {},
   "outputs": [
    {
     "data": {
      "text/plain": [
       "tuple"
      ]
     },
     "execution_count": 123,
     "metadata": {},
     "output_type": "execute_result"
    }
   ],
   "source": [
    "type(tuple)"
   ]
  },
  {
   "cell_type": "code",
   "execution_count": 124,
   "id": "eb1f239b",
   "metadata": {},
   "outputs": [],
   "source": [
    "dict = {}"
   ]
  },
  {
   "cell_type": "code",
   "execution_count": 125,
   "id": "ea2f5828",
   "metadata": {},
   "outputs": [
    {
     "data": {
      "text/plain": [
       "dict"
      ]
     },
     "execution_count": 125,
     "metadata": {},
     "output_type": "execute_result"
    }
   ],
   "source": [
    "type(dict)"
   ]
  },
  {
   "cell_type": "code",
   "execution_count": 126,
   "id": "d75c1a02",
   "metadata": {},
   "outputs": [
    {
     "data": {
      "text/plain": [
       "[]"
      ]
     },
     "execution_count": 126,
     "metadata": {},
     "output_type": "execute_result"
    }
   ],
   "source": [
    "list"
   ]
  },
  {
   "cell_type": "code",
   "execution_count": 127,
   "id": "67fb677b",
   "metadata": {},
   "outputs": [
    {
     "data": {
      "text/plain": [
       "()"
      ]
     },
     "execution_count": 127,
     "metadata": {},
     "output_type": "execute_result"
    }
   ],
   "source": [
    "tuple"
   ]
  },
  {
   "cell_type": "code",
   "execution_count": 128,
   "id": "f3faa915",
   "metadata": {},
   "outputs": [
    {
     "data": {
      "text/plain": [
       "{}"
      ]
     },
     "execution_count": 128,
     "metadata": {},
     "output_type": "execute_result"
    }
   ],
   "source": [
    "dict"
   ]
  },
  {
   "cell_type": "code",
   "execution_count": 129,
   "id": "337db3e1",
   "metadata": {},
   "outputs": [],
   "source": [
    "list.append(50) # List"
   ]
  },
  {
   "cell_type": "code",
   "execution_count": 130,
   "id": "a253bd43",
   "metadata": {},
   "outputs": [
    {
     "data": {
      "text/plain": [
       "[50]"
      ]
     },
     "execution_count": 130,
     "metadata": {},
     "output_type": "execute_result"
    }
   ],
   "source": [
    "list"
   ]
  },
  {
   "cell_type": "code",
   "execution_count": 131,
   "id": "54a528af",
   "metadata": {},
   "outputs": [],
   "source": [
    "list.append(42)"
   ]
  },
  {
   "cell_type": "code",
   "execution_count": 132,
   "id": "b899bd15",
   "metadata": {},
   "outputs": [
    {
     "data": {
      "text/plain": [
       "[50, 42]"
      ]
     },
     "execution_count": 132,
     "metadata": {},
     "output_type": "execute_result"
    }
   ],
   "source": [
    "list"
   ]
  },
  {
   "cell_type": "code",
   "execution_count": 133,
   "id": "e8f6041c",
   "metadata": {},
   "outputs": [],
   "source": [
    "list.append(12)"
   ]
  },
  {
   "cell_type": "code",
   "execution_count": 134,
   "id": "9de3aa60",
   "metadata": {},
   "outputs": [
    {
     "data": {
      "text/plain": [
       "[50, 42, 12]"
      ]
     },
     "execution_count": 134,
     "metadata": {},
     "output_type": "execute_result"
    }
   ],
   "source": [
    "list"
   ]
  },
  {
   "cell_type": "code",
   "execution_count": 135,
   "id": "8715e23f",
   "metadata": {},
   "outputs": [],
   "source": [
    "item = list"
   ]
  },
  {
   "cell_type": "code",
   "execution_count": 136,
   "id": "b1e620c5",
   "metadata": {},
   "outputs": [
    {
     "data": {
      "text/plain": [
       "[50, 42, 12]"
      ]
     },
     "execution_count": 136,
     "metadata": {},
     "output_type": "execute_result"
    }
   ],
   "source": [
    "item"
   ]
  },
  {
   "cell_type": "code",
   "execution_count": 137,
   "id": "f7de5c65",
   "metadata": {},
   "outputs": [],
   "source": [
    "item.append(22)"
   ]
  },
  {
   "cell_type": "code",
   "execution_count": 138,
   "id": "70b9b0f2",
   "metadata": {},
   "outputs": [
    {
     "data": {
      "text/plain": [
       "[50, 42, 12, 22]"
      ]
     },
     "execution_count": 138,
     "metadata": {},
     "output_type": "execute_result"
    }
   ],
   "source": [
    "item"
   ]
  },
  {
   "cell_type": "code",
   "execution_count": 139,
   "id": "7b0e6bbb",
   "metadata": {},
   "outputs": [
    {
     "data": {
      "text/plain": [
       "[50, 42, 12, 22]"
      ]
     },
     "execution_count": 139,
     "metadata": {},
     "output_type": "execute_result"
    }
   ],
   "source": [
    "list"
   ]
  },
  {
   "cell_type": "code",
   "execution_count": 140,
   "id": "006288fc",
   "metadata": {},
   "outputs": [
    {
     "data": {
      "text/plain": [
       "22"
      ]
     },
     "execution_count": 140,
     "metadata": {},
     "output_type": "execute_result"
    }
   ],
   "source": [
    "item.pop()"
   ]
  },
  {
   "cell_type": "code",
   "execution_count": 141,
   "id": "fb08bd8f",
   "metadata": {},
   "outputs": [
    {
     "data": {
      "text/plain": [
       "[50, 42, 12]"
      ]
     },
     "execution_count": 141,
     "metadata": {},
     "output_type": "execute_result"
    }
   ],
   "source": [
    "item"
   ]
  },
  {
   "cell_type": "code",
   "execution_count": 142,
   "id": "6e074928",
   "metadata": {},
   "outputs": [
    {
     "data": {
      "text/plain": [
       "50"
      ]
     },
     "execution_count": 142,
     "metadata": {},
     "output_type": "execute_result"
    }
   ],
   "source": [
    "item.pop(0)"
   ]
  },
  {
   "cell_type": "code",
   "execution_count": 143,
   "id": "57db1912",
   "metadata": {},
   "outputs": [
    {
     "data": {
      "text/plain": [
       "[42, 12]"
      ]
     },
     "execution_count": 143,
     "metadata": {},
     "output_type": "execute_result"
    }
   ],
   "source": [
    "item"
   ]
  },
  {
   "cell_type": "code",
   "execution_count": 144,
   "id": "cb6bc84f",
   "metadata": {},
   "outputs": [],
   "source": [
    "item.insert(0,55)"
   ]
  },
  {
   "cell_type": "code",
   "execution_count": 145,
   "id": "46b7894e",
   "metadata": {},
   "outputs": [
    {
     "data": {
      "text/plain": [
       "[55, 42, 12]"
      ]
     },
     "execution_count": 145,
     "metadata": {},
     "output_type": "execute_result"
    }
   ],
   "source": [
    "item"
   ]
  },
  {
   "cell_type": "code",
   "execution_count": 146,
   "id": "c55ef73f",
   "metadata": {},
   "outputs": [
    {
     "data": {
      "text/plain": [
       "[55, 42, 12]"
      ]
     },
     "execution_count": 146,
     "metadata": {},
     "output_type": "execute_result"
    }
   ],
   "source": [
    "list"
   ]
  },
  {
   "cell_type": "code",
   "execution_count": 147,
   "id": "b876043e",
   "metadata": {},
   "outputs": [
    {
     "data": {
      "text/plain": [
       "True"
      ]
     },
     "execution_count": 147,
     "metadata": {},
     "output_type": "execute_result"
    }
   ],
   "source": [
    "item is list"
   ]
  },
  {
   "cell_type": "code",
   "execution_count": 148,
   "id": "1d873924",
   "metadata": {},
   "outputs": [
    {
     "data": {
      "text/plain": [
       "True"
      ]
     },
     "execution_count": 148,
     "metadata": {},
     "output_type": "execute_result"
    }
   ],
   "source": [
    "list is item"
   ]
  },
  {
   "cell_type": "code",
   "execution_count": 149,
   "id": "b2a0efb1",
   "metadata": {},
   "outputs": [
    {
     "data": {
      "text/plain": [
       "True"
      ]
     },
     "execution_count": 149,
     "metadata": {},
     "output_type": "execute_result"
    }
   ],
   "source": [
    "item == list"
   ]
  },
  {
   "cell_type": "code",
   "execution_count": 150,
   "id": "8ce59d18",
   "metadata": {},
   "outputs": [
    {
     "data": {
      "text/plain": [
       "True"
      ]
     },
     "execution_count": 150,
     "metadata": {},
     "output_type": "execute_result"
    }
   ],
   "source": [
    "list == item"
   ]
  },
  {
   "cell_type": "code",
   "execution_count": 151,
   "id": "6f238183",
   "metadata": {},
   "outputs": [],
   "source": [
    "item.insert(1,88)"
   ]
  },
  {
   "cell_type": "code",
   "execution_count": 152,
   "id": "2fe2d572",
   "metadata": {},
   "outputs": [
    {
     "data": {
      "text/plain": [
       "[55, 88, 42, 12]"
      ]
     },
     "execution_count": 152,
     "metadata": {},
     "output_type": "execute_result"
    }
   ],
   "source": [
    "item"
   ]
  },
  {
   "cell_type": "code",
   "execution_count": 153,
   "id": "f1f394dc",
   "metadata": {},
   "outputs": [],
   "source": [
    "item.remove(88)"
   ]
  },
  {
   "cell_type": "code",
   "execution_count": 154,
   "id": "e2dea284",
   "metadata": {},
   "outputs": [
    {
     "data": {
      "text/plain": [
       "[55, 42, 12]"
      ]
     },
     "execution_count": 154,
     "metadata": {},
     "output_type": "execute_result"
    }
   ],
   "source": [
    "item"
   ]
  },
  {
   "cell_type": "code",
   "execution_count": 155,
   "id": "1b18d4f4",
   "metadata": {},
   "outputs": [
    {
     "data": {
      "text/plain": [
       "[55, 42, 12]"
      ]
     },
     "execution_count": 155,
     "metadata": {},
     "output_type": "execute_result"
    }
   ],
   "source": [
    "list"
   ]
  },
  {
   "cell_type": "code",
   "execution_count": 156,
   "id": "41a8a2f9",
   "metadata": {},
   "outputs": [],
   "source": [
    "for x in range(22,30):\n",
    "    list.append(x)"
   ]
  },
  {
   "cell_type": "code",
   "execution_count": 157,
   "id": "def6ba2c",
   "metadata": {},
   "outputs": [
    {
     "data": {
      "text/plain": [
       "[55, 42, 12, 22, 23, 24, 25, 26, 27, 28, 29]"
      ]
     },
     "execution_count": 157,
     "metadata": {},
     "output_type": "execute_result"
    }
   ],
   "source": [
    "list"
   ]
  },
  {
   "cell_type": "code",
   "execution_count": 158,
   "id": "573fb301",
   "metadata": {},
   "outputs": [],
   "source": [
    "list[4] = 100"
   ]
  },
  {
   "cell_type": "code",
   "execution_count": 159,
   "id": "60bdcfa3",
   "metadata": {},
   "outputs": [
    {
     "data": {
      "text/plain": [
       "[55, 42, 12, 22, 100, 24, 25, 26, 27, 28, 29]"
      ]
     },
     "execution_count": 159,
     "metadata": {},
     "output_type": "execute_result"
    }
   ],
   "source": [
    "list"
   ]
  },
  {
   "cell_type": "code",
   "execution_count": 181,
   "id": "d9a5b9da",
   "metadata": {},
   "outputs": [],
   "source": [
    "# set\n",
    "s1 = {1,3,5,6}"
   ]
  },
  {
   "cell_type": "code",
   "execution_count": 182,
   "id": "0de622b5",
   "metadata": {},
   "outputs": [
    {
     "data": {
      "text/plain": [
       "set"
      ]
     },
     "execution_count": 182,
     "metadata": {},
     "output_type": "execute_result"
    }
   ],
   "source": [
    "type(s1)"
   ]
  },
  {
   "cell_type": "code",
   "execution_count": 183,
   "id": "3777ebfa",
   "metadata": {},
   "outputs": [
    {
     "data": {
      "text/plain": [
       "{1, 3, 5, 6}"
      ]
     },
     "execution_count": 183,
     "metadata": {},
     "output_type": "execute_result"
    }
   ],
   "source": [
    "s1"
   ]
  },
  {
   "cell_type": "code",
   "execution_count": 184,
   "id": "0a221a25",
   "metadata": {},
   "outputs": [],
   "source": [
    "s1.add(10)"
   ]
  },
  {
   "cell_type": "code",
   "execution_count": 185,
   "id": "f3a6f190",
   "metadata": {},
   "outputs": [
    {
     "data": {
      "text/plain": [
       "{1, 3, 5, 6, 10}"
      ]
     },
     "execution_count": 185,
     "metadata": {},
     "output_type": "execute_result"
    }
   ],
   "source": [
    "s1"
   ]
  },
  {
   "cell_type": "code",
   "execution_count": 186,
   "id": "907627a6",
   "metadata": {},
   "outputs": [],
   "source": [
    "s1.add(55) # Add Element in the Last"
   ]
  },
  {
   "cell_type": "code",
   "execution_count": 187,
   "id": "0ec5151b",
   "metadata": {},
   "outputs": [
    {
     "data": {
      "text/plain": [
       "{1, 3, 5, 6, 10, 55}"
      ]
     },
     "execution_count": 187,
     "metadata": {},
     "output_type": "execute_result"
    }
   ],
   "source": [
    "s1"
   ]
  },
  {
   "cell_type": "code",
   "execution_count": 188,
   "id": "e27593bb",
   "metadata": {},
   "outputs": [
    {
     "data": {
      "text/plain": [
       "1"
      ]
     },
     "execution_count": 188,
     "metadata": {},
     "output_type": "execute_result"
    }
   ],
   "source": [
    "s1.pop() # Delete the first element"
   ]
  },
  {
   "cell_type": "code",
   "execution_count": 189,
   "id": "e243b128",
   "metadata": {},
   "outputs": [
    {
     "data": {
      "text/plain": [
       "{3, 5, 6, 10, 55}"
      ]
     },
     "execution_count": 189,
     "metadata": {},
     "output_type": "execute_result"
    }
   ],
   "source": [
    "s1"
   ]
  },
  {
   "cell_type": "code",
   "execution_count": 191,
   "id": "a5fb23ed",
   "metadata": {},
   "outputs": [],
   "source": [
    "s1.remove(5) #delete the element by the help of given value"
   ]
  },
  {
   "cell_type": "code",
   "execution_count": 192,
   "id": "b9216e67",
   "metadata": {},
   "outputs": [
    {
     "data": {
      "text/plain": [
       "{3, 6, 10, 55}"
      ]
     },
     "execution_count": 192,
     "metadata": {},
     "output_type": "execute_result"
    }
   ],
   "source": [
    "s1"
   ]
  },
  {
   "cell_type": "code",
   "execution_count": 193,
   "id": "2c2a4936",
   "metadata": {},
   "outputs": [
    {
     "data": {
      "text/plain": [
       "4"
      ]
     },
     "execution_count": 193,
     "metadata": {},
     "output_type": "execute_result"
    }
   ],
   "source": [
    " len(s1) #len() function gives the lenght of any set,tuple,dict"
   ]
  },
  {
   "cell_type": "code",
   "execution_count": 195,
   "id": "5ccf09be",
   "metadata": {},
   "outputs": [
    {
     "data": {
      "text/plain": [
       "74"
      ]
     },
     "execution_count": 195,
     "metadata": {},
     "output_type": "execute_result"
    }
   ],
   "source": [
    "sum(s1) # sum() function gives the sum of any set,tuple,list and dict in the same order of the values"
   ]
  },
  {
   "cell_type": "code",
   "execution_count": 196,
   "id": "34b89ee4",
   "metadata": {},
   "outputs": [
    {
     "data": {
      "text/plain": [
       "'1214'"
      ]
     },
     "execution_count": 196,
     "metadata": {},
     "output_type": "execute_result"
    }
   ],
   "source": [
    "'12'+'14'"
   ]
  },
  {
   "cell_type": "code",
   "execution_count": 197,
   "id": "dcbd9509",
   "metadata": {},
   "outputs": [
    {
     "data": {
      "text/plain": [
       "'bhuvneshjain'"
      ]
     },
     "execution_count": 197,
     "metadata": {},
     "output_type": "execute_result"
    }
   ],
   "source": [
    "'bhuvnesh'+'jain'"
   ]
  },
  {
   "cell_type": "code",
   "execution_count": 198,
   "id": "407dd328",
   "metadata": {},
   "outputs": [
    {
     "data": {
      "text/plain": [
       "69"
      ]
     },
     "execution_count": 198,
     "metadata": {},
     "output_type": "execute_result"
    }
   ],
   "source": [
    "int('64')+5"
   ]
  },
  {
   "cell_type": "code",
   "execution_count": 199,
   "id": "e083ad60",
   "metadata": {},
   "outputs": [
    {
     "data": {
      "text/plain": [
       "'42Bhuvnesh'"
      ]
     },
     "execution_count": 199,
     "metadata": {},
     "output_type": "execute_result"
    }
   ],
   "source": [
    "str(42) + 'Bhuvnesh'"
   ]
  }
 ],
 "metadata": {
  "kernelspec": {
   "display_name": "Python 3 (ipykernel)",
   "language": "python",
   "name": "python3"
  },
  "language_info": {
   "codemirror_mode": {
    "name": "ipython",
    "version": 3
   },
   "file_extension": ".py",
   "mimetype": "text/x-python",
   "name": "python",
   "nbconvert_exporter": "python",
   "pygments_lexer": "ipython3",
   "version": "3.9.6"
  }
 },
 "nbformat": 4,
 "nbformat_minor": 5
}
