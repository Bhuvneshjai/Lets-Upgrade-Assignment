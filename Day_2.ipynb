{
 "cells": [
  {
   "cell_type": "code",
   "execution_count": 1,
   "id": "7890ee1f",
   "metadata": {},
   "outputs": [
    {
     "name": "stdout",
     "output_type": "stream",
     "text": [
      "Bhuvnesh\n"
     ]
    }
   ],
   "source": [
    "print('Bhuvnesh')"
   ]
  },
  {
   "cell_type": "code",
   "execution_count": 2,
   "id": "c9473b65",
   "metadata": {},
   "outputs": [],
   "source": [
    "name = 'Jain'"
   ]
  },
  {
   "cell_type": "code",
   "execution_count": 3,
   "id": "4b595edb",
   "metadata": {},
   "outputs": [
    {
     "data": {
      "text/plain": [
       "'Jain'"
      ]
     },
     "execution_count": 3,
     "metadata": {},
     "output_type": "execute_result"
    }
   ],
   "source": [
    "name"
   ]
  },
  {
   "cell_type": "code",
   "execution_count": 4,
   "id": "257ee1ab",
   "metadata": {},
   "outputs": [
    {
     "name": "stdout",
     "output_type": "stream",
     "text": [
      "Hey Jain\n"
     ]
    }
   ],
   "source": [
    "print('Hey '+name )"
   ]
  },
  {
   "cell_type": "code",
   "execution_count": 5,
   "id": "583f2e06",
   "metadata": {},
   "outputs": [],
   "source": [
    "age = 21"
   ]
  },
  {
   "cell_type": "code",
   "execution_count": 6,
   "id": "d74205ff",
   "metadata": {},
   "outputs": [],
   "source": [
    "country = 'India'"
   ]
  },
  {
   "cell_type": "code",
   "execution_count": 7,
   "id": "1a348a97",
   "metadata": {},
   "outputs": [
    {
     "data": {
      "text/plain": [
       "('Jain', 21, 'India')"
      ]
     },
     "execution_count": 7,
     "metadata": {},
     "output_type": "execute_result"
    }
   ],
   "source": [
    "name,age,country"
   ]
  },
  {
   "cell_type": "code",
   "execution_count": 8,
   "id": "49035a9a",
   "metadata": {},
   "outputs": [
    {
     "name": "stdout",
     "output_type": "stream",
     "text": [
      "Jain 21 India\n"
     ]
    }
   ],
   "source": [
    "print(name,age,country)"
   ]
  },
  {
   "cell_type": "code",
   "execution_count": 11,
   "id": "6067393c",
   "metadata": {},
   "outputs": [
    {
     "name": "stdout",
     "output_type": "stream",
     "text": [
      "My name is Jain and age is  21 . I live in India\n"
     ]
    }
   ],
   "source": [
    "print('My name is',name,'and age is ',age,'. I live in',country)"
   ]
  },
  {
   "cell_type": "code",
   "execution_count": 12,
   "id": "c6d09238",
   "metadata": {},
   "outputs": [
    {
     "name": "stdout",
     "output_type": "stream",
     "text": [
      "My name is Jain and age is 21. I stay in India\n"
     ]
    }
   ],
   "source": [
    "print('My name is %s and age is %s. I stay in %s'%(name,age,country))"
   ]
  },
  {
   "cell_type": "code",
   "execution_count": 13,
   "id": "62b8c217",
   "metadata": {},
   "outputs": [],
   "source": [
    "marks = 80.55"
   ]
  },
  {
   "cell_type": "code",
   "execution_count": 17,
   "id": "b765b874",
   "metadata": {},
   "outputs": [
    {
     "name": "stdout",
     "output_type": "stream",
     "text": [
      "My name is Jain and age is 21. I stay in India. I got the marks 80.55\n"
     ]
    }
   ],
   "source": [
    "print('My name is %s and age is %s. I stay in %s. I got the marks %s'%\\\n",
    "      (name,age,country,marks))"
   ]
  },
  {
   "cell_type": "code",
   "execution_count": 18,
   "id": "5e2202dd",
   "metadata": {},
   "outputs": [
    {
     "name": "stdout",
     "output_type": "stream",
     "text": [
      "My name is Jain and age is 21. I stay in India. I got the marks 80.55\n"
     ]
    }
   ],
   "source": [
    "# format method\n",
    "print('My name is {} and age is {}. I stay in {}. I got the marks {}'\\\n",
    "      .format(name,age,country,marks))"
   ]
  },
  {
   "cell_type": "code",
   "execution_count": 19,
   "id": "9b33f6ef",
   "metadata": {},
   "outputs": [
    {
     "name": "stdout",
     "output_type": "stream",
     "text": [
      "My name is Jain and age is 21. I stay in India.\n"
     ]
    }
   ],
   "source": [
    "print('My name is {} and age is {}. I stay in {}.'\\\n",
    "     .format(name,age,country,marks))"
   ]
  },
  {
   "cell_type": "code",
   "execution_count": 20,
   "id": "2e56f7e9",
   "metadata": {},
   "outputs": [
    {
     "ename": "IndexError",
     "evalue": "Replacement index 3 out of range for positional args tuple",
     "output_type": "error",
     "traceback": [
      "\u001b[1;31m---------------------------------------------------------------------------\u001b[0m",
      "\u001b[1;31mIndexError\u001b[0m                                Traceback (most recent call last)",
      "\u001b[1;32m~\\AppData\\Local\\Temp/ipykernel_9340/3459639229.py\u001b[0m in \u001b[0;36m<module>\u001b[1;34m\u001b[0m\n\u001b[1;32m----> 1\u001b[1;33m print('My name is {} and age is {}. I stay in {} and got marks {}'\\\n\u001b[0m\u001b[0;32m      2\u001b[0m      .format(name,age,country)) \n\u001b[0;32m      3\u001b[0m \u001b[1;31m# it throws an error because number of arguments pass in format mathod is not same of {}\u001b[0m\u001b[1;33m\u001b[0m\u001b[1;33m\u001b[0m\u001b[1;33m\u001b[0m\u001b[0m\n",
      "\u001b[1;31mIndexError\u001b[0m: Replacement index 3 out of range for positional args tuple"
     ]
    }
   ],
   "source": [
    "print('My name is {} and age is {}. I stay in {} and got marks {}'\\\n",
    "     .format(name,age,country)) \n",
    "# it throws an error because number of arguments pass in format mathod is not same of {}"
   ]
  },
  {
   "cell_type": "code",
   "execution_count": 21,
   "id": "e5970b4f",
   "metadata": {},
   "outputs": [
    {
     "ename": "TypeError",
     "evalue": "not enough arguments for format string",
     "output_type": "error",
     "traceback": [
      "\u001b[1;31m---------------------------------------------------------------------------\u001b[0m",
      "\u001b[1;31mTypeError\u001b[0m                                 Traceback (most recent call last)",
      "\u001b[1;32m~\\AppData\\Local\\Temp/ipykernel_9340/676161183.py\u001b[0m in \u001b[0;36m<module>\u001b[1;34m\u001b[0m\n\u001b[1;32m----> 1\u001b[1;33m print('My name is %s and age is %s and stay in country %s and got marks %s.'\\\n\u001b[0m\u001b[0;32m      2\u001b[0m      %(name,age ,country))\n\u001b[0;32m      3\u001b[0m \u001b[1;31m# it also throws an error because number of arguments pass in %() is not same %s\u001b[0m\u001b[1;33m\u001b[0m\u001b[1;33m\u001b[0m\u001b[1;33m\u001b[0m\u001b[0m\n",
      "\u001b[1;31mTypeError\u001b[0m: not enough arguments for format string"
     ]
    }
   ],
   "source": [
    "print('My name is %s and age is %s and stay in country %s and got marks %s.'\\\n",
    "     %(name,age ,country))\n",
    "# it also throws an error because number of arguments pass in %() is not same %s"
   ]
  },
  {
   "cell_type": "code",
   "execution_count": 22,
   "id": "72cd7d8c",
   "metadata": {},
   "outputs": [
    {
     "ename": "TypeError",
     "evalue": "not all arguments converted during string formatting",
     "output_type": "error",
     "traceback": [
      "\u001b[1;31m---------------------------------------------------------------------------\u001b[0m",
      "\u001b[1;31mTypeError\u001b[0m                                 Traceback (most recent call last)",
      "\u001b[1;32m~\\AppData\\Local\\Temp/ipykernel_9340/2029053625.py\u001b[0m in \u001b[0;36m<module>\u001b[1;34m\u001b[0m\n\u001b[1;32m----> 1\u001b[1;33m print('My name is %s and age is %s and country is %s'\\\n\u001b[0m\u001b[0;32m      2\u001b[0m      %(name,age,country,marks))\n\u001b[0;32m      3\u001b[0m \u001b[1;31m# it also thrown an error becoz %s is not same to pass the arguments\u001b[0m\u001b[1;33m\u001b[0m\u001b[1;33m\u001b[0m\u001b[1;33m\u001b[0m\u001b[0m\n",
      "\u001b[1;31mTypeError\u001b[0m: not all arguments converted during string formatting"
     ]
    }
   ],
   "source": [
    "print('My name is %s and age is %s and country is %s'\\\n",
    "     %(name,age,country,marks))\n",
    "# it also thrown an error becoz %s is not same to pass the arguments "
   ]
  },
  {
   "cell_type": "code",
   "execution_count": 23,
   "id": "6ba4da40",
   "metadata": {},
   "outputs": [
    {
     "name": "stdout",
     "output_type": "stream",
     "text": [
      "My name is Jain and age is 21. I stay in India and got marks 80.55\n"
     ]
    }
   ],
   "source": [
    "# Positional Argument\n",
    "print('My name is {0} and age is {1}. I stay in {2} and got marks {3}'\\\n",
    "     .format(name,age,country,marks)) "
   ]
  },
  {
   "cell_type": "code",
   "execution_count": 24,
   "id": "eacdc99d",
   "metadata": {},
   "outputs": [
    {
     "name": "stdout",
     "output_type": "stream",
     "text": [
      "My name is India and age is 21. I stay in Jain and got marks 80.55\n"
     ]
    }
   ],
   "source": [
    "print('My name is {2} and age is {1}. I stay in {0} and got marks {3}'\\\n",
    "     .format(name,age,country,marks)) "
   ]
  },
  {
   "cell_type": "code",
   "execution_count": 25,
   "id": "f4c44312",
   "metadata": {},
   "outputs": [
    {
     "name": "stdout",
     "output_type": "stream",
     "text": [
      "\n"
     ]
    }
   ],
   "source": [
    "# f-string\n",
    "print(f'') # single quotes is used"
   ]
  },
  {
   "cell_type": "code",
   "execution_count": 26,
   "id": "56276929",
   "metadata": {},
   "outputs": [
    {
     "name": "stdout",
     "output_type": "stream",
     "text": [
      "\n"
     ]
    }
   ],
   "source": [
    "print(f\"\") # Double quotes is used"
   ]
  },
  {
   "cell_type": "code",
   "execution_count": 31,
   "id": "f5c7284b",
   "metadata": {},
   "outputs": [
    {
     "name": "stdout",
     "output_type": "stream",
     "text": [
      "My name is Jain and age is 21. I stay in India and got marks 80.55\n"
     ]
    }
   ],
   "source": [
    "print(f'My name is {name} and age is {age}. I stay in {country} and got marks\\\n",
    " {marks}')"
   ]
  },
  {
   "cell_type": "code",
   "execution_count": 32,
   "id": "284d9d78",
   "metadata": {},
   "outputs": [
    {
     "name": "stdout",
     "output_type": "stream",
     "text": [
      "My name is 21 and age is Jain. I stay in India and got marks 80.55\n"
     ]
    }
   ],
   "source": [
    "print(f\"My name is {age} and age is {name}. I stay in {country} and got marks\\\n",
    " {marks}\")"
   ]
  },
  {
   "cell_type": "code",
   "execution_count": 33,
   "id": "cb056738",
   "metadata": {},
   "outputs": [
    {
     "name": "stdout",
     "output_type": "stream",
     "text": [
      "My name is Bhuvnesh Jain and age is 21. I stay in Indiaand got marks 90%\n"
     ]
    }
   ],
   "source": [
    "print(f\"My name is {'Bhuvnesh Jain'} and age is {'21'}. I stay in {'India'}\\\n",
    "and got marks {'90%'}\")"
   ]
  },
  {
   "cell_type": "code",
   "execution_count": 35,
   "id": "3e0c86d3",
   "metadata": {},
   "outputs": [
    {
     "name": "stdout",
     "output_type": "stream",
     "text": [
      "4\n"
     ]
    }
   ],
   "source": [
    "print(f'{2+2}')"
   ]
  },
  {
   "cell_type": "code",
   "execution_count": 37,
   "id": "715c6061",
   "metadata": {},
   "outputs": [
    {
     "name": "stdout",
     "output_type": "stream",
     "text": [
      "2+2\n"
     ]
    }
   ],
   "source": [
    "print(f'{\"2+2\"}')"
   ]
  },
  {
   "cell_type": "code",
   "execution_count": 38,
   "id": "ad47bf59",
   "metadata": {},
   "outputs": [
    {
     "name": "stdout",
     "output_type": "stream",
     "text": [
      "2*5\n"
     ]
    }
   ],
   "source": [
    "print(f\"2*5\")"
   ]
  },
  {
   "cell_type": "code",
   "execution_count": 39,
   "id": "51409687",
   "metadata": {},
   "outputs": [
    {
     "data": {
      "text/plain": [
       "'\\n\\n'"
      ]
     },
     "execution_count": 39,
     "metadata": {},
     "output_type": "execute_result"
    }
   ],
   "source": [
    "'''\n",
    "\n",
    "'''"
   ]
  },
  {
   "cell_type": "code",
   "execution_count": 44,
   "id": "d6e887f0",
   "metadata": {},
   "outputs": [
    {
     "data": {
      "text/plain": [
       "'\\na\\nb\\nc\\nd\\n'"
      ]
     },
     "execution_count": 44,
     "metadata": {},
     "output_type": "execute_result"
    }
   ],
   "source": [
    "\"\"\"\n",
    "a\n",
    "b\n",
    "c\n",
    "d\n",
    "\"\"\""
   ]
  },
  {
   "cell_type": "code",
   "execution_count": 41,
   "id": "e28646d7",
   "metadata": {},
   "outputs": [
    {
     "name": "stdout",
     "output_type": "stream",
     "text": [
      "hellp\n"
     ]
    }
   ],
   "source": [
    "print(f'''hellp''')"
   ]
  },
  {
   "cell_type": "code",
   "execution_count": 42,
   "id": "44e5d7dc",
   "metadata": {},
   "outputs": [
    {
     "name": "stdout",
     "output_type": "stream",
     "text": [
      "World\n"
     ]
    }
   ],
   "source": [
    "print(f\"\"\"World\"\"\")"
   ]
  },
  {
   "cell_type": "code",
   "execution_count": 55,
   "id": "9a329d94",
   "metadata": {},
   "outputs": [],
   "source": [
    "# list\n",
    "total_list = list()"
   ]
  },
  {
   "cell_type": "code",
   "execution_count": 56,
   "id": "bd2909fb",
   "metadata": {},
   "outputs": [
    {
     "data": {
      "text/plain": [
       "list"
      ]
     },
     "execution_count": 56,
     "metadata": {},
     "output_type": "execute_result"
    }
   ],
   "source": [
    "type(total_list)"
   ]
  },
  {
   "cell_type": "code",
   "execution_count": 58,
   "id": "473e3f5e",
   "metadata": {},
   "outputs": [],
   "source": [
    "total_list.append(42)\n",
    "total_list.append(20)\n",
    "total_list.append(33)\n",
    "total_list.append(55)\n",
    "total_list.append('Bhuvnesh Jain')\n",
    "total_list.append([4,5,3,7,8])"
   ]
  },
  {
   "cell_type": "code",
   "execution_count": 59,
   "id": "a21343df",
   "metadata": {},
   "outputs": [
    {
     "data": {
      "text/plain": [
       "[42, 20, 33, 55, 'Bhuvnesh Jain', [4, 5, 3, 7, 8]]"
      ]
     },
     "execution_count": 59,
     "metadata": {},
     "output_type": "execute_result"
    }
   ],
   "source": [
    "total_list"
   ]
  },
  {
   "cell_type": "code",
   "execution_count": 60,
   "id": "a5f089c6",
   "metadata": {},
   "outputs": [
    {
     "data": {
      "text/plain": [
       "1"
      ]
     },
     "execution_count": 60,
     "metadata": {},
     "output_type": "execute_result"
    }
   ],
   "source": [
    "min([4,3,7,8,1]) #return the minimum element of the list"
   ]
  },
  {
   "cell_type": "code",
   "execution_count": 61,
   "id": "a31b12b0",
   "metadata": {},
   "outputs": [
    {
     "data": {
      "text/plain": [
       "55"
      ]
     },
     "execution_count": 61,
     "metadata": {},
     "output_type": "execute_result"
    }
   ],
   "source": [
    "max([44,55,22,12,1]) #return the maximum element of the list"
   ]
  },
  {
   "cell_type": "code",
   "execution_count": 62,
   "id": "55e74a0f",
   "metadata": {},
   "outputs": [
    {
     "data": {
      "text/plain": [
       "15"
      ]
     },
     "execution_count": 62,
     "metadata": {},
     "output_type": "execute_result"
    }
   ],
   "source": [
    "sum([3,4,5,2,1])"
   ]
  },
  {
   "cell_type": "code",
   "execution_count": 63,
   "id": "a63f4299",
   "metadata": {},
   "outputs": [
    {
     "name": "stdout",
     "output_type": "stream",
     "text": [
      "42\n",
      "20\n",
      "33\n",
      "55\n",
      "Bhuvnesh Jain\n",
      "[4, 5, 3, 7, 8]\n"
     ]
    }
   ],
   "source": [
    "# for loop\n",
    "for x in total_list:\n",
    "    print(x)"
   ]
  },
  {
   "cell_type": "code",
   "execution_count": 64,
   "id": "18a552f7",
   "metadata": {},
   "outputs": [
    {
     "name": "stdout",
     "output_type": "stream",
     "text": [
      "42 0\n",
      "20 1\n",
      "33 2\n",
      "55 3\n",
      "Bhuvnesh Jain 4\n",
      "[4, 5, 3, 7, 8] 5\n"
     ]
    }
   ],
   "source": [
    "for x in total_list:\n",
    "    print(x,total_list.index(x))"
   ]
  },
  {
   "cell_type": "code",
   "execution_count": 78,
   "id": "a71757c5",
   "metadata": {},
   "outputs": [
    {
     "name": "stdout",
     "output_type": "stream",
     "text": [
      "Value is : 42 and index is : 42\n",
      "Value is : 20 and index is : 20\n",
      "Value is : 33 and index is : 33\n",
      "Value is : 55 and index is : 55\n",
      "Value is : Bhuvnesh Jain and index is : Bhuvnesh Jain\n",
      "Value is : [4, 5, 3, 7, 8] and index is : [4, 5, 3, 7, 8]\n"
     ]
    }
   ],
   "source": [
    "for i in total_list:\n",
    "    print(f\"Value is : {i} and index is : {(i)}\")"
   ]
  },
  {
   "cell_type": "code",
   "execution_count": 79,
   "id": "0c77d8de",
   "metadata": {},
   "outputs": [
    {
     "name": "stdout",
     "output_type": "stream",
     "text": [
      "0\n",
      "1\n",
      "2\n",
      "3\n",
      "4\n",
      "5\n"
     ]
    }
   ],
   "source": [
    "for i in range(len(total_list)):\n",
    "    print(i)"
   ]
  },
  {
   "cell_type": "code",
   "execution_count": 80,
   "id": "e6a75a83",
   "metadata": {},
   "outputs": [
    {
     "name": "stdout",
     "output_type": "stream",
     "text": [
      "value is 42 and index is 0\n",
      "value is 20 and index is 1\n",
      "value is 33 and index is 2\n",
      "value is 55 and index is 3\n",
      "value is Bhuvnesh Jain and index is 4\n",
      "value is [4, 5, 3, 7, 8] and index is 5\n"
     ]
    }
   ],
   "source": [
    "for i in range(len(total_list)):\n",
    "    print(f\"value is {total_list[i]} and index is {i}\")"
   ]
  },
  {
   "cell_type": "code",
   "execution_count": 81,
   "id": "496dbe6e",
   "metadata": {},
   "outputs": [],
   "source": [
    "# tuple\n",
    "t = tuple()"
   ]
  },
  {
   "cell_type": "code",
   "execution_count": 82,
   "id": "741559d4",
   "metadata": {},
   "outputs": [
    {
     "data": {
      "text/plain": [
       "tuple"
      ]
     },
     "execution_count": 82,
     "metadata": {},
     "output_type": "execute_result"
    }
   ],
   "source": [
    "type(t)"
   ]
  },
  {
   "cell_type": "code",
   "execution_count": 83,
   "id": "e5bf91c1",
   "metadata": {},
   "outputs": [
    {
     "data": {
      "text/plain": [
       "0"
      ]
     },
     "execution_count": 83,
     "metadata": {},
     "output_type": "execute_result"
    }
   ],
   "source": [
    "t.count(45)"
   ]
  },
  {
   "cell_type": "code",
   "execution_count": 84,
   "id": "36d59c21",
   "metadata": {},
   "outputs": [
    {
     "data": {
      "text/plain": [
       "0"
      ]
     },
     "execution_count": 84,
     "metadata": {},
     "output_type": "execute_result"
    }
   ],
   "source": [
    "len(t)"
   ]
  },
  {
   "cell_type": "code",
   "execution_count": 85,
   "id": "e01334d4",
   "metadata": {},
   "outputs": [],
   "source": [
    "t = (44,55,34,23,32,45,3,4)"
   ]
  },
  {
   "cell_type": "code",
   "execution_count": 87,
   "id": "91fccd2b",
   "metadata": {},
   "outputs": [
    {
     "data": {
      "text/plain": [
       "1"
      ]
     },
     "execution_count": 87,
     "metadata": {},
     "output_type": "execute_result"
    }
   ],
   "source": [
    "t.index(55)"
   ]
  },
  {
   "cell_type": "code",
   "execution_count": 88,
   "id": "09cc988e",
   "metadata": {},
   "outputs": [
    {
     "data": {
      "text/plain": [
       "1"
      ]
     },
     "execution_count": 88,
     "metadata": {},
     "output_type": "execute_result"
    }
   ],
   "source": [
    "t.count(55)"
   ]
  },
  {
   "cell_type": "code",
   "execution_count": 89,
   "id": "3d08a0ca",
   "metadata": {},
   "outputs": [
    {
     "data": {
      "text/plain": [
       "8"
      ]
     },
     "execution_count": 89,
     "metadata": {},
     "output_type": "execute_result"
    }
   ],
   "source": [
    "len(t)"
   ]
  },
  {
   "cell_type": "code",
   "execution_count": 91,
   "id": "9c4c1fc8",
   "metadata": {},
   "outputs": [
    {
     "data": {
      "text/plain": [
       "55"
      ]
     },
     "execution_count": 91,
     "metadata": {},
     "output_type": "execute_result"
    }
   ],
   "source": [
    "max(t)"
   ]
  },
  {
   "cell_type": "code",
   "execution_count": 92,
   "id": "40ed8b52",
   "metadata": {},
   "outputs": [
    {
     "data": {
      "text/plain": [
       "3"
      ]
     },
     "execution_count": 92,
     "metadata": {},
     "output_type": "execute_result"
    }
   ],
   "source": [
    "min(t)"
   ]
  },
  {
   "cell_type": "code",
   "execution_count": 93,
   "id": "9e4a8d24",
   "metadata": {},
   "outputs": [
    {
     "data": {
      "text/plain": [
       "240"
      ]
     },
     "execution_count": 93,
     "metadata": {},
     "output_type": "execute_result"
    }
   ],
   "source": [
    "sum(t)"
   ]
  },
  {
   "cell_type": "code",
   "execution_count": 94,
   "id": "d75e3788",
   "metadata": {},
   "outputs": [
    {
     "data": {
      "text/plain": [
       "(44, 55, 34, 23, 32, 45, 3, 4)"
      ]
     },
     "execution_count": 94,
     "metadata": {},
     "output_type": "execute_result"
    }
   ],
   "source": [
    "t"
   ]
  },
  {
   "cell_type": "code",
   "execution_count": 95,
   "id": "c386376e",
   "metadata": {},
   "outputs": [
    {
     "data": {
      "text/plain": [
       "'d'"
      ]
     },
     "execution_count": 95,
     "metadata": {},
     "output_type": "execute_result"
    }
   ],
   "source": [
    "max(['a','d','c'])"
   ]
  },
  {
   "cell_type": "code",
   "execution_count": 96,
   "id": "a9133c83",
   "metadata": {},
   "outputs": [
    {
     "data": {
      "text/plain": [
       "'a'"
      ]
     },
     "execution_count": 96,
     "metadata": {},
     "output_type": "execute_result"
    }
   ],
   "source": [
    "min(['f','r','a'])"
   ]
  },
  {
   "cell_type": "code",
   "execution_count": 98,
   "id": "78410ea1",
   "metadata": {},
   "outputs": [],
   "source": [
    "tu = (4,5.5,[],'Bhuvnesh')"
   ]
  },
  {
   "cell_type": "code",
   "execution_count": 99,
   "id": "1f837cc6",
   "metadata": {},
   "outputs": [
    {
     "data": {
      "text/plain": [
       "(4, 5.5, [], 'Bhuvnesh')"
      ]
     },
     "execution_count": 99,
     "metadata": {},
     "output_type": "execute_result"
    }
   ],
   "source": [
    "tu"
   ]
  },
  {
   "cell_type": "code",
   "execution_count": 100,
   "id": "37a230b2",
   "metadata": {},
   "outputs": [
    {
     "data": {
      "text/plain": [
       "'Bhuvnesh'"
      ]
     },
     "execution_count": 100,
     "metadata": {},
     "output_type": "execute_result"
    }
   ],
   "source": [
    "tu[3]"
   ]
  },
  {
   "cell_type": "code",
   "execution_count": 101,
   "id": "c7f0d469",
   "metadata": {},
   "outputs": [],
   "source": [
    "# Dict is also known JSON\n",
    "a = {\n",
    "    'Name':'Bhuvnesh Jain',\n",
    "    'Course':'Python Zero To Hero',\n",
    "    'Address':'Etah'\n",
    "}"
   ]
  },
  {
   "cell_type": "code",
   "execution_count": 102,
   "id": "e8184daa",
   "metadata": {},
   "outputs": [
    {
     "data": {
      "text/plain": [
       "{'Name': 'Bhuvnesh Jain', 'Course': 'Python Zero To Hero', 'Address': 'Etah'}"
      ]
     },
     "execution_count": 102,
     "metadata": {},
     "output_type": "execute_result"
    }
   ],
   "source": [
    "a"
   ]
  },
  {
   "cell_type": "code",
   "execution_count": 103,
   "id": "92386f4f",
   "metadata": {},
   "outputs": [
    {
     "data": {
      "text/plain": [
       "dict"
      ]
     },
     "execution_count": 103,
     "metadata": {},
     "output_type": "execute_result"
    }
   ],
   "source": [
    "type(a)"
   ]
  },
  {
   "cell_type": "code",
   "execution_count": 104,
   "id": "25cf999c",
   "metadata": {},
   "outputs": [],
   "source": [
    "info = {}"
   ]
  },
  {
   "cell_type": "code",
   "execution_count": 105,
   "id": "afa401fa",
   "metadata": {},
   "outputs": [
    {
     "data": {
      "text/plain": [
       "dict"
      ]
     },
     "execution_count": 105,
     "metadata": {},
     "output_type": "execute_result"
    }
   ],
   "source": [
    "type(info)"
   ]
  },
  {
   "cell_type": "code",
   "execution_count": 106,
   "id": "558628f9",
   "metadata": {},
   "outputs": [],
   "source": [
    "info['name']='Samyak Jain'"
   ]
  },
  {
   "cell_type": "code",
   "execution_count": 107,
   "id": "784bfadf",
   "metadata": {},
   "outputs": [
    {
     "data": {
      "text/plain": [
       "{'name': 'Samyak Jain'}"
      ]
     },
     "execution_count": 107,
     "metadata": {},
     "output_type": "execute_result"
    }
   ],
   "source": [
    "info"
   ]
  },
  {
   "cell_type": "code",
   "execution_count": 108,
   "id": "23684b97",
   "metadata": {},
   "outputs": [],
   "source": [
    "info.update({'Age':21})"
   ]
  },
  {
   "cell_type": "code",
   "execution_count": 109,
   "id": "18ab81fc",
   "metadata": {},
   "outputs": [
    {
     "data": {
      "text/plain": [
       "{'name': 'Samyak Jain', 'Age': 21}"
      ]
     },
     "execution_count": 109,
     "metadata": {},
     "output_type": "execute_result"
    }
   ],
   "source": [
    "info"
   ]
  },
  {
   "cell_type": "code",
   "execution_count": 110,
   "id": "2a1e5c54",
   "metadata": {},
   "outputs": [],
   "source": [
    "dictionary_ex = a"
   ]
  },
  {
   "cell_type": "code",
   "execution_count": 111,
   "id": "94f77f33",
   "metadata": {},
   "outputs": [
    {
     "data": {
      "text/plain": [
       "{'Name': 'Bhuvnesh Jain', 'Course': 'Python Zero To Hero', 'Address': 'Etah'}"
      ]
     },
     "execution_count": 111,
     "metadata": {},
     "output_type": "execute_result"
    }
   ],
   "source": [
    "dictionary_ex"
   ]
  },
  {
   "cell_type": "code",
   "execution_count": 112,
   "id": "93659e6a",
   "metadata": {},
   "outputs": [
    {
     "data": {
      "text/plain": [
       "True"
      ]
     },
     "execution_count": 112,
     "metadata": {},
     "output_type": "execute_result"
    }
   ],
   "source": [
    "dictionary_ex is a"
   ]
  },
  {
   "cell_type": "code",
   "execution_count": 113,
   "id": "44c40afe",
   "metadata": {},
   "outputs": [
    {
     "data": {
      "text/plain": [
       "True"
      ]
     },
     "execution_count": 113,
     "metadata": {},
     "output_type": "execute_result"
    }
   ],
   "source": [
    "a is dictionary_ex"
   ]
  },
  {
   "cell_type": "code",
   "execution_count": 114,
   "id": "0f47d677",
   "metadata": {},
   "outputs": [
    {
     "data": {
      "text/plain": [
       "True"
      ]
     },
     "execution_count": 114,
     "metadata": {},
     "output_type": "execute_result"
    }
   ],
   "source": [
    "a == dictionary_ex"
   ]
  },
  {
   "cell_type": "code",
   "execution_count": 115,
   "id": "9bfb0ab9",
   "metadata": {},
   "outputs": [
    {
     "data": {
      "text/plain": [
       "True"
      ]
     },
     "execution_count": 115,
     "metadata": {},
     "output_type": "execute_result"
    }
   ],
   "source": [
    "dictionary_ex == a"
   ]
  },
  {
   "cell_type": "code",
   "execution_count": 116,
   "id": "aa81729f",
   "metadata": {},
   "outputs": [],
   "source": [
    "dictionary_ex.update({'Salary':'$25000'})"
   ]
  },
  {
   "cell_type": "code",
   "execution_count": 117,
   "id": "cab7014f",
   "metadata": {},
   "outputs": [
    {
     "data": {
      "text/plain": [
       "{'Name': 'Bhuvnesh Jain',\n",
       " 'Course': 'Python Zero To Hero',\n",
       " 'Address': 'Etah',\n",
       " 'Salary': '$25000'}"
      ]
     },
     "execution_count": 117,
     "metadata": {},
     "output_type": "execute_result"
    }
   ],
   "source": [
    "dictionary_ex"
   ]
  },
  {
   "cell_type": "code",
   "execution_count": 118,
   "id": "2d71fe0a",
   "metadata": {},
   "outputs": [
    {
     "data": {
      "text/plain": [
       "{'Name': 'Bhuvnesh Jain',\n",
       " 'Course': 'Python Zero To Hero',\n",
       " 'Address': 'Etah',\n",
       " 'Salary': '$25000'}"
      ]
     },
     "execution_count": 118,
     "metadata": {},
     "output_type": "execute_result"
    }
   ],
   "source": [
    "a"
   ]
  },
  {
   "cell_type": "code",
   "execution_count": 119,
   "id": "4dc348ef",
   "metadata": {},
   "outputs": [],
   "source": [
    "info['Country'] = 'India'"
   ]
  },
  {
   "cell_type": "code",
   "execution_count": 120,
   "id": "de7b36dc",
   "metadata": {},
   "outputs": [
    {
     "data": {
      "text/plain": [
       "{'name': 'Samyak Jain', 'Age': 21, 'Country': 'India'}"
      ]
     },
     "execution_count": 120,
     "metadata": {},
     "output_type": "execute_result"
    }
   ],
   "source": [
    "info"
   ]
  },
  {
   "cell_type": "code",
   "execution_count": 121,
   "id": "d31502f9",
   "metadata": {},
   "outputs": [
    {
     "data": {
      "text/plain": [
       "'Samyak Jain'"
      ]
     },
     "execution_count": 121,
     "metadata": {},
     "output_type": "execute_result"
    }
   ],
   "source": [
    "info['name']"
   ]
  },
  {
   "cell_type": "code",
   "execution_count": 122,
   "id": "7fd6a253",
   "metadata": {},
   "outputs": [],
   "source": [
    "b = set()"
   ]
  },
  {
   "cell_type": "code",
   "execution_count": 123,
   "id": "315a52a6",
   "metadata": {},
   "outputs": [
    {
     "data": {
      "text/plain": [
       "set"
      ]
     },
     "execution_count": 123,
     "metadata": {},
     "output_type": "execute_result"
    }
   ],
   "source": [
    "type(b)"
   ]
  },
  {
   "cell_type": "code",
   "execution_count": 124,
   "id": "29499ad9",
   "metadata": {},
   "outputs": [],
   "source": [
    "c = {}"
   ]
  },
  {
   "cell_type": "code",
   "execution_count": 125,
   "id": "e435c7e7",
   "metadata": {},
   "outputs": [
    {
     "data": {
      "text/plain": [
       "dict"
      ]
     },
     "execution_count": 125,
     "metadata": {},
     "output_type": "execute_result"
    }
   ],
   "source": [
    "type(c) # in dictionary values can be duplicated but keys is not duplicated"
   ]
  },
  {
   "cell_type": "code",
   "execution_count": 126,
   "id": "1f51b615",
   "metadata": {},
   "outputs": [
    {
     "data": {
      "text/plain": [
       "dict_keys(['Name', 'Course', 'Address', 'Salary'])"
      ]
     },
     "execution_count": 126,
     "metadata": {},
     "output_type": "execute_result"
    }
   ],
   "source": [
    "a.keys()"
   ]
  },
  {
   "cell_type": "code",
   "execution_count": 127,
   "id": "233c04e8",
   "metadata": {},
   "outputs": [
    {
     "data": {
      "text/plain": [
       "dict_values(['Bhuvnesh Jain', 'Python Zero To Hero', 'Etah', '$25000'])"
      ]
     },
     "execution_count": 127,
     "metadata": {},
     "output_type": "execute_result"
    }
   ],
   "source": [
    "a.values()"
   ]
  },
  {
   "cell_type": "code",
   "execution_count": 135,
   "id": "b81db30a",
   "metadata": {},
   "outputs": [
    {
     "name": "stdout",
     "output_type": "stream",
     "text": [
      "Name\n",
      "Course\n",
      "Address\n",
      "Salary\n"
     ]
    }
   ],
   "source": [
    "for i in a:\n",
    "    print(i)"
   ]
  },
  {
   "cell_type": "code",
   "execution_count": 137,
   "id": "43466095",
   "metadata": {},
   "outputs": [],
   "source": [
    "a1 = {(1,2,3,4,5,6,7,8,9,9,8,7,6,5,4,3)}"
   ]
  },
  {
   "cell_type": "code",
   "execution_count": 138,
   "id": "91b523f2",
   "metadata": {},
   "outputs": [
    {
     "data": {
      "text/plain": [
       "{(1, 2, 3, 4, 5, 6, 7, 8, 9, 9, 8, 7, 6, 5, 4, 3)}"
      ]
     },
     "execution_count": 138,
     "metadata": {},
     "output_type": "execute_result"
    }
   ],
   "source": [
    "a1"
   ]
  },
  {
   "cell_type": "code",
   "execution_count": 139,
   "id": "982501b5",
   "metadata": {},
   "outputs": [
    {
     "data": {
      "text/plain": [
       "set"
      ]
     },
     "execution_count": 139,
     "metadata": {},
     "output_type": "execute_result"
    }
   ],
   "source": [
    "type(a1)"
   ]
  },
  {
   "cell_type": "code",
   "execution_count": 140,
   "id": "cedd3256",
   "metadata": {},
   "outputs": [],
   "source": [
    "s2 = {5,6,7,7,6,5,4,3,2,1}"
   ]
  },
  {
   "cell_type": "code",
   "execution_count": 141,
   "id": "3d0b04a2",
   "metadata": {},
   "outputs": [
    {
     "data": {
      "text/plain": [
       "{1, 2, 3, 4, 5, 6, 7}"
      ]
     },
     "execution_count": 141,
     "metadata": {},
     "output_type": "execute_result"
    }
   ],
   "source": [
    "s2"
   ]
  },
  {
   "cell_type": "code",
   "execution_count": 142,
   "id": "584b1000",
   "metadata": {},
   "outputs": [],
   "source": [
    "s5 = set([2,3,4,5,6,7,8,7,6,5,4,3,2,1,1])"
   ]
  },
  {
   "cell_type": "code",
   "execution_count": 143,
   "id": "0ad7f164",
   "metadata": {},
   "outputs": [
    {
     "data": {
      "text/plain": [
       "{1, 2, 3, 4, 5, 6, 7, 8}"
      ]
     },
     "execution_count": 143,
     "metadata": {},
     "output_type": "execute_result"
    }
   ],
   "source": [
    "s5"
   ]
  },
  {
   "cell_type": "code",
   "execution_count": 144,
   "id": "518a4c01",
   "metadata": {},
   "outputs": [],
   "source": [
    "s5.add(10)"
   ]
  },
  {
   "cell_type": "code",
   "execution_count": 145,
   "id": "377fe82c",
   "metadata": {},
   "outputs": [],
   "source": [
    "s5.add(10)"
   ]
  },
  {
   "cell_type": "code",
   "execution_count": 146,
   "id": "0a5da978",
   "metadata": {},
   "outputs": [],
   "source": [
    "s5.add(10)"
   ]
  },
  {
   "cell_type": "code",
   "execution_count": 147,
   "id": "838941e4",
   "metadata": {},
   "outputs": [
    {
     "data": {
      "text/plain": [
       "{1, 2, 3, 4, 5, 6, 7, 8, 10}"
      ]
     },
     "execution_count": 147,
     "metadata": {},
     "output_type": "execute_result"
    }
   ],
   "source": [
    "s5"
   ]
  },
  {
   "cell_type": "code",
   "execution_count": 149,
   "id": "7030ef8c",
   "metadata": {},
   "outputs": [],
   "source": [
    "d1 = {}"
   ]
  },
  {
   "cell_type": "code",
   "execution_count": 150,
   "id": "269240f9",
   "metadata": {},
   "outputs": [],
   "source": [
    "d1['name'] = 'Bhuvensh'"
   ]
  },
  {
   "cell_type": "code",
   "execution_count": 151,
   "id": "7f875c50",
   "metadata": {},
   "outputs": [
    {
     "data": {
      "text/plain": [
       "{'name': 'Bhuvensh'}"
      ]
     },
     "execution_count": 151,
     "metadata": {},
     "output_type": "execute_result"
    }
   ],
   "source": [
    "d1"
   ]
  },
  {
   "cell_type": "code",
   "execution_count": 152,
   "id": "f13907f7",
   "metadata": {},
   "outputs": [],
   "source": [
    "d1['address'] = 'Tundla'"
   ]
  },
  {
   "cell_type": "code",
   "execution_count": 153,
   "id": "884e32c0",
   "metadata": {},
   "outputs": [
    {
     "data": {
      "text/plain": [
       "{'name': 'Bhuvensh', 'address': 'Tundla'}"
      ]
     },
     "execution_count": 153,
     "metadata": {},
     "output_type": "execute_result"
    }
   ],
   "source": [
    "d1"
   ]
  },
  {
   "cell_type": "code",
   "execution_count": 155,
   "id": "cf22b6d8",
   "metadata": {},
   "outputs": [],
   "source": [
    "d2 = dict(name='Samy')"
   ]
  },
  {
   "cell_type": "code",
   "execution_count": 156,
   "id": "ab98c36a",
   "metadata": {},
   "outputs": [
    {
     "data": {
      "text/plain": [
       "{'name': 'Samy'}"
      ]
     },
     "execution_count": 156,
     "metadata": {},
     "output_type": "execute_result"
    }
   ],
   "source": [
    "d2"
   ]
  },
  {
   "cell_type": "code",
   "execution_count": 158,
   "id": "5d7d25f5",
   "metadata": {},
   "outputs": [
    {
     "data": {
      "text/plain": [
       "{'name': 'Samyak Jain', 'Age': 21, 'Country': 'India'}"
      ]
     },
     "execution_count": 158,
     "metadata": {},
     "output_type": "execute_result"
    }
   ],
   "source": [
    "info"
   ]
  },
  {
   "cell_type": "code",
   "execution_count": 159,
   "id": "31f057c1",
   "metadata": {},
   "outputs": [
    {
     "ename": "KeyError",
     "evalue": "'marks'",
     "output_type": "error",
     "traceback": [
      "\u001b[1;31m---------------------------------------------------------------------------\u001b[0m",
      "\u001b[1;31mKeyError\u001b[0m                                  Traceback (most recent call last)",
      "\u001b[1;32m~\\AppData\\Local\\Temp/ipykernel_9340/3082861037.py\u001b[0m in \u001b[0;36m<module>\u001b[1;34m\u001b[0m\n\u001b[1;32m----> 1\u001b[1;33m \u001b[0minfo\u001b[0m\u001b[1;33m[\u001b[0m\u001b[1;34m'marks'\u001b[0m\u001b[1;33m]\u001b[0m\u001b[1;33m\u001b[0m\u001b[1;33m\u001b[0m\u001b[0m\n\u001b[0m",
      "\u001b[1;31mKeyError\u001b[0m: 'marks'"
     ]
    }
   ],
   "source": [
    "info['marks']"
   ]
  },
  {
   "cell_type": "code",
   "execution_count": 160,
   "id": "e85cc6a5",
   "metadata": {},
   "outputs": [
    {
     "data": {
      "text/plain": [
       "'It does not exist'"
      ]
     },
     "execution_count": 160,
     "metadata": {},
     "output_type": "execute_result"
    }
   ],
   "source": [
    "info.get('marks','It does not exist')"
   ]
  },
  {
   "cell_type": "code",
   "execution_count": 164,
   "id": "0b7ac963",
   "metadata": {},
   "outputs": [
    {
     "data": {
      "text/plain": [
       "'Samyak Jain'"
      ]
     },
     "execution_count": 164,
     "metadata": {},
     "output_type": "execute_result"
    }
   ],
   "source": [
    "info.get('name')"
   ]
  },
  {
   "cell_type": "code",
   "execution_count": 167,
   "id": "31ea6c3d",
   "metadata": {},
   "outputs": [
    {
     "name": "stdout",
     "output_type": "stream",
     "text": [
      "name Samyak Jain\n",
      "Age 21\n",
      "Country India\n"
     ]
    }
   ],
   "source": [
    "for key,values in info.items():\n",
    "    print(key,values)"
   ]
  },
  {
   "cell_type": "code",
   "execution_count": 168,
   "id": "f3362af5",
   "metadata": {},
   "outputs": [
    {
     "data": {
      "text/plain": [
       "dict_items([('name', 'Samyak Jain'), ('Age', 21), ('Country', 'India')])"
      ]
     },
     "execution_count": 168,
     "metadata": {},
     "output_type": "execute_result"
    }
   ],
   "source": [
    "info.items()"
   ]
  },
  {
   "cell_type": "code",
   "execution_count": 169,
   "id": "1bb2dad7",
   "metadata": {},
   "outputs": [
    {
     "name": "stdout",
     "output_type": "stream",
     "text": [
      "name\n",
      "Age\n",
      "Country\n"
     ]
    }
   ],
   "source": [
    "for keys in info:\n",
    "    print(keys)"
   ]
  },
  {
   "cell_type": "code",
   "execution_count": 170,
   "id": "5fe5cb0b",
   "metadata": {},
   "outputs": [
    {
     "name": "stdout",
     "output_type": "stream",
     "text": [
      "('name', 'Samyak Jain')\n",
      "('Age', 21)\n",
      "('Country', 'India')\n"
     ]
    }
   ],
   "source": [
    "for keys in info.items():\n",
    "    print(keys)"
   ]
  },
  {
   "cell_type": "code",
   "execution_count": 171,
   "id": "fe777081",
   "metadata": {},
   "outputs": [
    {
     "name": "stdout",
     "output_type": "stream",
     "text": [
      "name\n",
      "Age\n",
      "Country\n"
     ]
    }
   ],
   "source": [
    "for keys in info:\n",
    "    print(keys)"
   ]
  },
  {
   "cell_type": "code",
   "execution_count": 174,
   "id": "9f0bae66",
   "metadata": {},
   "outputs": [
    {
     "name": "stdout",
     "output_type": "stream",
     "text": [
      "Samyak Jain\n",
      "21\n",
      "India\n"
     ]
    }
   ],
   "source": [
    "for values in info.values():\n",
    "    print(values)"
   ]
  },
  {
   "cell_type": "code",
   "execution_count": 173,
   "id": "124e6533",
   "metadata": {},
   "outputs": [
    {
     "data": {
      "text/plain": [
       "{'name': 'Samyak Jain', 'Age': 21, 'Country': 'India'}"
      ]
     },
     "execution_count": 173,
     "metadata": {},
     "output_type": "execute_result"
    }
   ],
   "source": [
    "info"
   ]
  },
  {
   "cell_type": "code",
   "execution_count": 175,
   "id": "01ed3983",
   "metadata": {},
   "outputs": [
    {
     "data": {
      "text/plain": [
       "2618386172672"
      ]
     },
     "execution_count": 175,
     "metadata": {},
     "output_type": "execute_result"
    }
   ],
   "source": [
    "# id\n",
    "id(info)"
   ]
  },
  {
   "cell_type": "code",
   "execution_count": 176,
   "id": "c3a58ef5",
   "metadata": {},
   "outputs": [
    {
     "data": {
      "text/plain": [
       "2618385897728"
      ]
     },
     "execution_count": 176,
     "metadata": {},
     "output_type": "execute_result"
    }
   ],
   "source": [
    "id(a)"
   ]
  },
  {
   "cell_type": "code",
   "execution_count": 177,
   "id": "5d4eff8b",
   "metadata": {},
   "outputs": [
    {
     "data": {
      "text/plain": [
       "2618385897728"
      ]
     },
     "execution_count": 177,
     "metadata": {},
     "output_type": "execute_result"
    }
   ],
   "source": [
    "id(dictionary_ex) # id means address or location of particular variable in a memory"
   ]
  },
  {
   "cell_type": "code",
   "execution_count": null,
   "id": "872f294d",
   "metadata": {},
   "outputs": [],
   "source": []
  }
 ],
 "metadata": {
  "kernelspec": {
   "display_name": "Python 3 (ipykernel)",
   "language": "python",
   "name": "python3"
  },
  "language_info": {
   "codemirror_mode": {
    "name": "ipython",
    "version": 3
   },
   "file_extension": ".py",
   "mimetype": "text/x-python",
   "name": "python",
   "nbconvert_exporter": "python",
   "pygments_lexer": "ipython3",
   "version": "3.9.6"
  }
 },
 "nbformat": 4,
 "nbformat_minor": 5
}
