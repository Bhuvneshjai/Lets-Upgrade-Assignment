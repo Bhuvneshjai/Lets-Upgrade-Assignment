{
 "cells": [
  {
   "cell_type": "code",
   "execution_count": 1,
   "id": "33001284",
   "metadata": {},
   "outputs": [
    {
     "name": "stdout",
     "output_type": "stream",
     "text": [
      "Bhuvnesh Jain\n"
     ]
    }
   ],
   "source": [
    "# user input\n",
    "name = input()"
   ]
  },
  {
   "cell_type": "code",
   "execution_count": 2,
   "id": "f88a8d31",
   "metadata": {},
   "outputs": [
    {
     "data": {
      "text/plain": [
       "str"
      ]
     },
     "execution_count": 2,
     "metadata": {},
     "output_type": "execute_result"
    }
   ],
   "source": [
    "type(name)"
   ]
  },
  {
   "cell_type": "code",
   "execution_count": 3,
   "id": "e04d32e0",
   "metadata": {},
   "outputs": [
    {
     "name": "stdout",
     "output_type": "stream",
     "text": [
      "Enter Your Course Name : B.Tech CSE \n"
     ]
    }
   ],
   "source": [
    "course = input(\"Enter Your Course Name : \")"
   ]
  },
  {
   "cell_type": "code",
   "execution_count": 4,
   "id": "d9a469f3",
   "metadata": {},
   "outputs": [
    {
     "name": "stdout",
     "output_type": "stream",
     "text": [
      "21\n"
     ]
    }
   ],
   "source": [
    "age = int(input())"
   ]
  },
  {
   "cell_type": "code",
   "execution_count": 5,
   "id": "2adcb31e",
   "metadata": {},
   "outputs": [
    {
     "name": "stdout",
     "output_type": "stream",
     "text": [
      "Please Enter Your Passing Year : 2023\n"
     ]
    }
   ],
   "source": [
    "pass_year = int(input(\"Please Enter Your Passing Year : \"))"
   ]
  },
  {
   "cell_type": "code",
   "execution_count": 6,
   "id": "7cb2d2ca",
   "metadata": {},
   "outputs": [
    {
     "data": {
      "text/plain": [
       "int"
      ]
     },
     "execution_count": 6,
     "metadata": {},
     "output_type": "execute_result"
    }
   ],
   "source": [
    "type(age)"
   ]
  },
  {
   "cell_type": "code",
   "execution_count": 7,
   "id": "c5b274c5",
   "metadata": {},
   "outputs": [
    {
     "name": "stdout",
     "output_type": "stream",
     "text": [
      "True\n"
     ]
    }
   ],
   "source": [
    "condition = input()"
   ]
  },
  {
   "cell_type": "code",
   "execution_count": 8,
   "id": "916877f2",
   "metadata": {},
   "outputs": [
    {
     "data": {
      "text/plain": [
       "str"
      ]
     },
     "execution_count": 8,
     "metadata": {},
     "output_type": "execute_result"
    }
   ],
   "source": [
    "type(condition)"
   ]
  },
  {
   "cell_type": "code",
   "execution_count": 9,
   "id": "ae814f1b",
   "metadata": {},
   "outputs": [
    {
     "name": "stdout",
     "output_type": "stream",
     "text": [
      "Enter Your Marks : 88\n"
     ]
    }
   ],
   "source": [
    "marks = input(\"Enter Your Marks : \")"
   ]
  },
  {
   "cell_type": "code",
   "execution_count": 10,
   "id": "4f7bf975",
   "metadata": {},
   "outputs": [
    {
     "data": {
      "text/plain": [
       "str"
      ]
     },
     "execution_count": 10,
     "metadata": {},
     "output_type": "execute_result"
    }
   ],
   "source": [
    "type(marks)"
   ]
  },
  {
   "cell_type": "code",
   "execution_count": 11,
   "id": "ce6e098f",
   "metadata": {},
   "outputs": [
    {
     "name": "stdout",
     "output_type": "stream",
     "text": [
      "Plz Enter % : 88.50\n"
     ]
    }
   ],
   "source": [
    "percentage = input('Plz Enter % : ')"
   ]
  },
  {
   "cell_type": "code",
   "execution_count": 12,
   "id": "1b9a8ac0",
   "metadata": {},
   "outputs": [
    {
     "data": {
      "text/plain": [
       "str"
      ]
     },
     "execution_count": 12,
     "metadata": {},
     "output_type": "execute_result"
    }
   ],
   "source": [
    "type(percentage)"
   ]
  },
  {
   "cell_type": "code",
   "execution_count": 14,
   "id": "f9384dfc",
   "metadata": {},
   "outputs": [
    {
     "data": {
      "text/plain": [
       "'88.50'"
      ]
     },
     "execution_count": 14,
     "metadata": {},
     "output_type": "execute_result"
    }
   ],
   "source": [
    "percentage"
   ]
  },
  {
   "cell_type": "code",
   "execution_count": 16,
   "id": "2b86f3ee",
   "metadata": {},
   "outputs": [
    {
     "data": {
      "text/plain": [
       "'88'"
      ]
     },
     "execution_count": 16,
     "metadata": {},
     "output_type": "execute_result"
    }
   ],
   "source": [
    "marks"
   ]
  },
  {
   "cell_type": "code",
   "execution_count": 23,
   "id": "6510f0c8",
   "metadata": {},
   "outputs": [],
   "source": [
    "a = int(marks) # convert String into Int and Store in (a) variable"
   ]
  },
  {
   "cell_type": "code",
   "execution_count": 24,
   "id": "203f218a",
   "metadata": {},
   "outputs": [
    {
     "data": {
      "text/plain": [
       "88"
      ]
     },
     "execution_count": 24,
     "metadata": {},
     "output_type": "execute_result"
    }
   ],
   "source": [
    "a  # it contain int value"
   ]
  },
  {
   "cell_type": "code",
   "execution_count": 25,
   "id": "f7d6bba9",
   "metadata": {},
   "outputs": [
    {
     "data": {
      "text/plain": [
       "int"
      ]
     },
     "execution_count": 25,
     "metadata": {},
     "output_type": "execute_result"
    }
   ],
   "source": [
    "type(a) # type of a is int"
   ]
  },
  {
   "cell_type": "code",
   "execution_count": 26,
   "id": "0799c2ad",
   "metadata": {},
   "outputs": [
    {
     "data": {
      "text/plain": [
       "90"
      ]
     },
     "execution_count": 26,
     "metadata": {},
     "output_type": "execute_result"
    }
   ],
   "source": [
    "a + 2 # when the value of a is int then we can perform arithmetic operation."
   ]
  },
  {
   "cell_type": "code",
   "execution_count": 28,
   "id": "3be42fc2",
   "metadata": {},
   "outputs": [
    {
     "name": "stdout",
     "output_type": "stream",
     "text": [
      "Enter Floating value : 88.50\n"
     ]
    },
    {
     "data": {
      "text/plain": [
       "90.5"
      ]
     },
     "execution_count": 28,
     "metadata": {},
     "output_type": "execute_result"
    }
   ],
   "source": [
    "exact = float(input(\"Enter Floating value : \"))\n",
    "exact + 2"
   ]
  },
  {
   "cell_type": "code",
   "execution_count": 29,
   "id": "69de7bd1",
   "metadata": {},
   "outputs": [
    {
     "name": "stdout",
     "output_type": "stream",
     "text": [
      "Enter any value: 25\n"
     ]
    },
    {
     "data": {
      "text/plain": [
       "26.0"
      ]
     },
     "execution_count": 29,
     "metadata": {},
     "output_type": "execute_result"
    }
   ],
   "source": [
    "value = float(input(\"Enter any value: \"))\n",
    "value+1"
   ]
  },
  {
   "cell_type": "code",
   "execution_count": 30,
   "id": "601dc084",
   "metadata": {},
   "outputs": [
    {
     "data": {
      "text/plain": [
       "float"
      ]
     },
     "execution_count": 30,
     "metadata": {},
     "output_type": "execute_result"
    }
   ],
   "source": [
    "type(value)"
   ]
  },
  {
   "cell_type": "code",
   "execution_count": 31,
   "id": "3ffa18b1",
   "metadata": {},
   "outputs": [
    {
     "data": {
      "text/plain": [
       "2.3999999999999995"
      ]
     },
     "execution_count": 31,
     "metadata": {},
     "output_type": "execute_result"
    }
   ],
   "source": [
    "9.6-7.2"
   ]
  },
  {
   "cell_type": "code",
   "execution_count": 32,
   "id": "11e6d524",
   "metadata": {},
   "outputs": [
    {
     "data": {
      "text/plain": [
       "2.5"
      ]
     },
     "execution_count": 32,
     "metadata": {},
     "output_type": "execute_result"
    }
   ],
   "source": [
    "9.6-7.1"
   ]
  },
  {
   "cell_type": "code",
   "execution_count": 33,
   "id": "4218f8fe",
   "metadata": {},
   "outputs": [
    {
     "data": {
      "text/plain": [
       "2.3"
      ]
     },
     "execution_count": 33,
     "metadata": {},
     "output_type": "execute_result"
    }
   ],
   "source": [
    "9.6-7.3"
   ]
  },
  {
   "cell_type": "code",
   "execution_count": 34,
   "id": "7beaa5f2",
   "metadata": {},
   "outputs": [
    {
     "data": {
      "text/plain": [
       "2.1999999999999993"
      ]
     },
     "execution_count": 34,
     "metadata": {},
     "output_type": "execute_result"
    }
   ],
   "source": [
    "9.6-7.4"
   ]
  },
  {
   "cell_type": "code",
   "execution_count": 35,
   "id": "20568957",
   "metadata": {},
   "outputs": [
    {
     "data": {
      "text/plain": [
       "2.0999999999999996"
      ]
     },
     "execution_count": 35,
     "metadata": {},
     "output_type": "execute_result"
    }
   ],
   "source": [
    "9.6-7.5"
   ]
  },
  {
   "cell_type": "code",
   "execution_count": 36,
   "id": "ed926b79",
   "metadata": {},
   "outputs": [
    {
     "data": {
      "text/plain": [
       "2.0"
      ]
     },
     "execution_count": 36,
     "metadata": {},
     "output_type": "execute_result"
    }
   ],
   "source": [
    "9.6-7.6"
   ]
  },
  {
   "cell_type": "code",
   "execution_count": 37,
   "id": "7af4246e",
   "metadata": {},
   "outputs": [
    {
     "data": {
      "text/plain": [
       "1.8999999999999995"
      ]
     },
     "execution_count": 37,
     "metadata": {},
     "output_type": "execute_result"
    }
   ],
   "source": [
    "9.6-7.7"
   ]
  },
  {
   "cell_type": "code",
   "execution_count": 38,
   "id": "c9009cca",
   "metadata": {},
   "outputs": [
    {
     "data": {
      "text/plain": [
       "2"
      ]
     },
     "execution_count": 38,
     "metadata": {},
     "output_type": "execute_result"
    }
   ],
   "source": [
    "round(9.6-7.7)"
   ]
  },
  {
   "cell_type": "code",
   "execution_count": 39,
   "id": "7446e674",
   "metadata": {},
   "outputs": [
    {
     "data": {
      "text/plain": [
       "2"
      ]
     },
     "execution_count": 39,
     "metadata": {},
     "output_type": "execute_result"
    }
   ],
   "source": [
    "round(9.6-7.5)"
   ]
  },
  {
   "cell_type": "code",
   "execution_count": 40,
   "id": "085bcc6b",
   "metadata": {},
   "outputs": [
    {
     "data": {
      "text/plain": [
       "2"
      ]
     },
     "execution_count": 40,
     "metadata": {},
     "output_type": "execute_result"
    }
   ],
   "source": [
    "round(9.6-7.1)"
   ]
  },
  {
   "cell_type": "code",
   "execution_count": 41,
   "id": "aa771fa5",
   "metadata": {},
   "outputs": [
    {
     "data": {
      "text/plain": [
       "2.5"
      ]
     },
     "execution_count": 41,
     "metadata": {},
     "output_type": "execute_result"
    }
   ],
   "source": [
    "round(9.6-7.1,2)"
   ]
  },
  {
   "cell_type": "code",
   "execution_count": 42,
   "id": "b438e56e",
   "metadata": {},
   "outputs": [
    {
     "data": {
      "text/plain": [
       "1.9"
      ]
     },
     "execution_count": 42,
     "metadata": {},
     "output_type": "execute_result"
    }
   ],
   "source": [
    "round(9.6-7.7,2)"
   ]
  },
  {
   "cell_type": "code",
   "execution_count": 46,
   "id": "004b7c03",
   "metadata": {},
   "outputs": [
    {
     "data": {
      "text/plain": [
       "2.2"
      ]
     },
     "execution_count": 46,
     "metadata": {},
     "output_type": "execute_result"
    }
   ],
   "source": [
    "round(9.6-7.4,2)"
   ]
  },
  {
   "cell_type": "code",
   "execution_count": 47,
   "id": "2e22e836",
   "metadata": {},
   "outputs": [
    {
     "name": "stdout",
     "output_type": "stream",
     "text": [
      "Enter Names : Bhuvnesh Jain\n",
      "Enter Names : Prachi Sharma\n",
      "Enter Names : Riya Thakur\n",
      "Enter Names : Shruti Jaiswal\n",
      "Enter Names : Samyak Jain\n",
      "Enter Names : Anjali Singh\n"
     ]
    }
   ],
   "source": [
    "totallist = []\n",
    "for i in range(6):\n",
    "    totallist.append(input(\"Enter Names : \"))"
   ]
  },
  {
   "cell_type": "code",
   "execution_count": 48,
   "id": "cb70f627",
   "metadata": {},
   "outputs": [
    {
     "data": {
      "text/plain": [
       "['Bhuvnesh Jain',\n",
       " 'Prachi Sharma',\n",
       " 'Riya Thakur',\n",
       " 'Shruti Jaiswal',\n",
       " 'Samyak Jain',\n",
       " 'Anjali Singh']"
      ]
     },
     "execution_count": 48,
     "metadata": {},
     "output_type": "execute_result"
    }
   ],
   "source": [
    "totallist"
   ]
  },
  {
   "cell_type": "code",
   "execution_count": 49,
   "id": "a12b7491",
   "metadata": {},
   "outputs": [
    {
     "data": {
      "text/plain": [
       "list"
      ]
     },
     "execution_count": 49,
     "metadata": {},
     "output_type": "execute_result"
    }
   ],
   "source": [
    "type(totallist)"
   ]
  },
  {
   "cell_type": "code",
   "execution_count": 51,
   "id": "6d493354",
   "metadata": {},
   "outputs": [
    {
     "name": "stdout",
     "output_type": "stream",
     "text": [
      "Enter Fruit 1: Mango\n",
      "Enter Fruit 2: Banana\n",
      "Enter Fruit 3: Grapes\n",
      "Enter Fruit 4: Orange\n",
      "Enter Fruit 5: Papaya\n"
     ]
    }
   ],
   "source": [
    "items = []\n",
    "for i in range(5):\n",
    "    items.append(input(f\"Enter Fruit {i+1}: \"))"
   ]
  },
  {
   "cell_type": "code",
   "execution_count": 52,
   "id": "f18f0c59",
   "metadata": {},
   "outputs": [
    {
     "data": {
      "text/plain": [
       "['Mango', 'Banana', 'Grapes', 'Orange', 'Papaya']"
      ]
     },
     "execution_count": 52,
     "metadata": {},
     "output_type": "execute_result"
    }
   ],
   "source": [
    "items"
   ]
  },
  {
   "cell_type": "code",
   "execution_count": 53,
   "id": "fb7bf74a",
   "metadata": {},
   "outputs": [
    {
     "data": {
      "text/plain": [
       "1"
      ]
     },
     "execution_count": 53,
     "metadata": {},
     "output_type": "execute_result"
    }
   ],
   "source": [
    "items.index('Banana') #Return index number whatever value pass in the arguments"
   ]
  },
  {
   "cell_type": "code",
   "execution_count": 54,
   "id": "67063e8e",
   "metadata": {},
   "outputs": [],
   "source": [
    "items.insert(3,'Chilli') #Insert the value at the specific index , \n",
    "                         #passing the index \n",
    "                         #and values what we want to insert"
   ]
  },
  {
   "cell_type": "code",
   "execution_count": 55,
   "id": "194756fc",
   "metadata": {},
   "outputs": [
    {
     "data": {
      "text/plain": [
       "['Mango', 'Banana', 'Grapes', 'Chilli', 'Orange', 'Papaya']"
      ]
     },
     "execution_count": 55,
     "metadata": {},
     "output_type": "execute_result"
    }
   ],
   "source": [
    "items"
   ]
  },
  {
   "cell_type": "code",
   "execution_count": 56,
   "id": "a6f6f3a4",
   "metadata": {},
   "outputs": [
    {
     "data": {
      "text/plain": [
       "6"
      ]
     },
     "execution_count": 56,
     "metadata": {},
     "output_type": "execute_result"
    }
   ],
   "source": [
    "len(items) #Return the total no. oe elements exists in the list"
   ]
  },
  {
   "cell_type": "code",
   "execution_count": 57,
   "id": "b67f20b4",
   "metadata": {},
   "outputs": [
    {
     "data": {
      "text/plain": [
       "1"
      ]
     },
     "execution_count": 57,
     "metadata": {},
     "output_type": "execute_result"
    }
   ],
   "source": [
    "items.count('Mango') #count the no. of values and return it by \n",
    "                    #passing the value what we want to retuen"
   ]
  },
  {
   "cell_type": "code",
   "execution_count": 58,
   "id": "72db92ac",
   "metadata": {},
   "outputs": [
    {
     "name": "stdout",
     "output_type": "stream",
     "text": [
      "Mango\n",
      "Banana\n",
      "Grapes\n",
      "Chilli\n",
      "Orange\n",
      "Papaya\n"
     ]
    }
   ],
   "source": [
    "for i in items:\n",
    "    print(i)"
   ]
  },
  {
   "cell_type": "code",
   "execution_count": 59,
   "id": "53d74853",
   "metadata": {},
   "outputs": [
    {
     "name": "stdout",
     "output_type": "stream",
     "text": [
      "Bhuvnesh Jain\n",
      "Prachi Sharma\n",
      "Riya Thakur\n",
      "Shruti Jaiswal\n",
      "Samyak Jain\n",
      "Anjali Singh\n"
     ]
    }
   ],
   "source": [
    "for i in totallist:\n",
    "    print(i)"
   ]
  },
  {
   "cell_type": "code",
   "execution_count": 60,
   "id": "914dce46",
   "metadata": {},
   "outputs": [
    {
     "name": "stdout",
     "output_type": "stream",
     "text": [
      "0\n",
      "1\n",
      "2\n",
      "3\n",
      "4\n",
      "5\n"
     ]
    }
   ],
   "source": [
    "for i in range(len(items)):\n",
    "    print(i)"
   ]
  },
  {
   "cell_type": "code",
   "execution_count": 61,
   "id": "c3053569",
   "metadata": {},
   "outputs": [
    {
     "name": "stdout",
     "output_type": "stream",
     "text": [
      "['Mango', 'Banana', 'Grapes', 'Chilli', 'Orange', 'Papaya']\n",
      "['Mango', 'Banana', 'Grapes', 'Chilli', 'Orange', 'Papaya']\n",
      "['Mango', 'Banana', 'Grapes', 'Chilli', 'Orange', 'Papaya']\n",
      "['Mango', 'Banana', 'Grapes', 'Chilli', 'Orange', 'Papaya']\n",
      "['Mango', 'Banana', 'Grapes', 'Chilli', 'Orange', 'Papaya']\n",
      "['Mango', 'Banana', 'Grapes', 'Chilli', 'Orange', 'Papaya']\n"
     ]
    }
   ],
   "source": [
    "for i in range(len(items)):\n",
    "    print(items)"
   ]
  },
  {
   "cell_type": "code",
   "execution_count": 63,
   "id": "75b8c1eb",
   "metadata": {},
   "outputs": [
    {
     "name": "stdout",
     "output_type": "stream",
     "text": [
      "Mango\n",
      "Banana\n",
      "Grapes\n",
      "Chilli\n",
      "Orange\n",
      "Papaya\n"
     ]
    }
   ],
   "source": [
    "for i in range(len(items)):\n",
    "    print(items[i])"
   ]
  },
  {
   "cell_type": "code",
   "execution_count": 68,
   "id": "7c8cc183",
   "metadata": {},
   "outputs": [
    {
     "name": "stdout",
     "output_type": "stream",
     "text": [
      "Bhuvnesh Jain 1\n",
      "Prachi Sharma 2\n",
      "Riya Thakur 3\n",
      "Shruti Jaiswal 4\n",
      "Samyak Jain 5\n",
      "Anjali Singh 6\n"
     ]
    }
   ],
   "source": [
    "for j in totallist:\n",
    "    print(j,totallist.index(j)+1)"
   ]
  },
  {
   "cell_type": "code",
   "execution_count": 71,
   "id": "e36867f4",
   "metadata": {},
   "outputs": [
    {
     "name": "stdout",
     "output_type": "stream",
     "text": [
      "Mango-Banana-Grapes-Chilli-Orange-Papaya\n"
     ]
    }
   ],
   "source": [
    "print(*items,sep='-')"
   ]
  },
  {
   "cell_type": "code",
   "execution_count": 78,
   "id": "7a2b5c9e",
   "metadata": {},
   "outputs": [
    {
     "name": "stdout",
     "output_type": "stream",
     "text": [
      "Bhuvnesh Jain -- Prachi Sharma -- Riya Thakur -- Shruti Jaiswal -- Samyak Jain -- Anjali Singh -- "
     ]
    }
   ],
   "source": [
    "for i in totallist:\n",
    "    print(i,end=' -- ')"
   ]
  },
  {
   "cell_type": "code",
   "execution_count": 85,
   "id": "3a891316",
   "metadata": {},
   "outputs": [
    {
     "name": "stdout",
     "output_type": "stream",
     "text": [
      "Does not start with B : Mango and index is 1\n",
      "This fruit is start with B : Banana\n",
      "Does not start with B : Grapes and index is 3\n",
      "Does not start with B : Chilli and index is 4\n",
      "Does not start with B : Orange and index is 5\n",
      "Does not start with B : Papaya and index is 6\n"
     ]
    }
   ],
   "source": [
    "for i in items:\n",
    "    if i.startswith('B'):\n",
    "        print(f\"This fruit is start with B : {i}\")\n",
    "    else:\n",
    "        print(f\"Does not start with B : {i} and index is {items.index(i)+1}\")"
   ]
  },
  {
   "cell_type": "code",
   "execution_count": 87,
   "id": "92c8881c",
   "metadata": {},
   "outputs": [
    {
     "name": "stdout",
     "output_type": "stream",
     "text": [
      "This fruits : ['Mango', 'Banana', 'Grapes', 'Chilli', 'Orange', 'Papaya']\n"
     ]
    }
   ],
   "source": [
    "for i in items:\n",
    "    if i.startswith('O'):\n",
    "        print(f\"This fruits : {items}\")"
   ]
  },
  {
   "cell_type": "code",
   "execution_count": 88,
   "id": "506f114b",
   "metadata": {},
   "outputs": [
    {
     "name": "stdout",
     "output_type": "stream",
     "text": [
      "This fruits : 4\n"
     ]
    }
   ],
   "source": [
    "for i in items:\n",
    "    if i.startswith('O'):\n",
    "        print(f\"This fruits : {items.index(i)}\")"
   ]
  },
  {
   "cell_type": "code",
   "execution_count": 89,
   "id": "ff79939a",
   "metadata": {},
   "outputs": [],
   "source": [
    "l1 = [True,False,42,55.88,\\\n",
    "      [1,2,3,4,5,6,7,8,9],{'name':'Bhuvnesh Jain'},(5,5.6,6.8),{1,2,4,6}]"
   ]
  },
  {
   "cell_type": "code",
   "execution_count": 90,
   "id": "8d4b10e1",
   "metadata": {},
   "outputs": [
    {
     "data": {
      "text/plain": [
       "[True,\n",
       " False,\n",
       " 42,\n",
       " 55.88,\n",
       " [1, 2, 3, 4, 5, 6, 7, 8, 9],\n",
       " {'name': 'Bhuvnesh Jain'},\n",
       " (5, 5.6, 6.8),\n",
       " {1, 2, 4, 6}]"
      ]
     },
     "execution_count": 90,
     "metadata": {},
     "output_type": "execute_result"
    }
   ],
   "source": [
    "l1"
   ]
  },
  {
   "cell_type": "code",
   "execution_count": 91,
   "id": "0c86682d",
   "metadata": {},
   "outputs": [
    {
     "name": "stdout",
     "output_type": "stream",
     "text": [
      "True\n",
      "False\n",
      "42\n",
      "55.88\n",
      "[1, 2, 3, 4, 5, 6, 7, 8, 9]\n",
      "{'name': 'Bhuvnesh Jain'}\n",
      "(5, 5.6, 6.8)\n",
      "{1, 2, 4, 6}\n"
     ]
    }
   ],
   "source": [
    "for eachitems in l1:\n",
    "    print(eachitems)"
   ]
  },
  {
   "cell_type": "code",
   "execution_count": 94,
   "id": "79e8f410",
   "metadata": {},
   "outputs": [
    {
     "name": "stdout",
     "output_type": "stream",
     "text": [
      "0\n",
      "1\n",
      "2\n",
      "3\n",
      "4\n",
      "5\n",
      "6\n",
      "7\n"
     ]
    }
   ],
   "source": [
    "for eachitems in l1:\n",
    "    print(l1.index(eachitems))"
   ]
  },
  {
   "cell_type": "code",
   "execution_count": 98,
   "id": "7490f06d",
   "metadata": {},
   "outputs": [
    {
     "name": "stdout",
     "output_type": "stream",
     "text": [
      "0 True\n",
      "1 False\n",
      "2 42\n",
      "3 55.88\n",
      "4 [1, 2, 3, 4, 5, 6, 7, 8, 9]\n",
      "5 {'name': 'Bhuvnesh Jain'}\n",
      "6 (5, 5.6, 6.8)\n",
      "7 {1, 2, 4, 6}\n"
     ]
    }
   ],
   "source": [
    "for i,j in enumerate(l1): # it retuns the value in key-pair\n",
    "    print(i,j)            #format means index and value\n",
    "   "
   ]
  },
  {
   "cell_type": "code",
   "execution_count": 102,
   "id": "62412676",
   "metadata": {},
   "outputs": [
    {
     "name": "stdout",
     "output_type": "stream",
     "text": [
      "1 True\n",
      "2 False\n",
      "3 42\n",
      "4 55.88\n",
      "5 [1, 2, 3, 4, 5, 6, 7, 8, 9]\n",
      "6 {'name': 'Bhuvnesh Jain'}\n",
      "7 (5, 5.6, 6.8)\n",
      "8 {1, 2, 4, 6}\n"
     ]
    }
   ],
   "source": [
    "for key,value in enumerate(l1):\n",
    "    print(key+1,value)"
   ]
  },
  {
   "cell_type": "code",
   "execution_count": 103,
   "id": "dae4e2cc",
   "metadata": {},
   "outputs": [
    {
     "name": "stdout",
     "output_type": "stream",
     "text": [
      "0\n",
      "1\n",
      "2\n",
      "3\n",
      "4\n",
      "5\n",
      "6\n",
      "7\n"
     ]
    }
   ],
   "source": [
    "for i in range(len(l1)):\n",
    "    print(i)"
   ]
  },
  {
   "cell_type": "code",
   "execution_count": 106,
   "id": "d99b2bbd",
   "metadata": {},
   "outputs": [
    {
     "name": "stdout",
     "output_type": "stream",
     "text": [
      "True\n",
      "False\n",
      "42\n",
      "55.88\n",
      "[1, 2, 3, 4, 5, 6, 7, 8, 9]\n",
      "{'name': 'Bhuvnesh Jain'}\n",
      "(5, 5.6, 6.8)\n",
      "{1, 2, 4, 6}\n"
     ]
    }
   ],
   "source": [
    "for i in range(len(l1)):\n",
    "    print(l1[i])"
   ]
  },
  {
   "cell_type": "code",
   "execution_count": 107,
   "id": "3aac981d",
   "metadata": {},
   "outputs": [
    {
     "name": "stdout",
     "output_type": "stream",
     "text": [
      "(0, True)\n",
      "(1, False)\n",
      "(2, 42)\n",
      "(3, 55.88)\n",
      "(4, [1, 2, 3, 4, 5, 6, 7, 8, 9])\n",
      "(5, {'name': 'Bhuvnesh Jain'})\n",
      "(6, (5, 5.6, 6.8))\n",
      "(7, {1, 2, 4, 6})\n"
     ]
    }
   ],
   "source": [
    "for i in enumerate(l1):\n",
    "    print(i)"
   ]
  },
  {
   "cell_type": "code",
   "execution_count": 108,
   "id": "45cd005d",
   "metadata": {},
   "outputs": [
    {
     "name": "stdout",
     "output_type": "stream",
     "text": [
      "(0, True) <class 'tuple'>\n",
      "(1, False) <class 'tuple'>\n",
      "(2, 42) <class 'tuple'>\n",
      "(3, 55.88) <class 'tuple'>\n",
      "(4, [1, 2, 3, 4, 5, 6, 7, 8, 9]) <class 'tuple'>\n",
      "(5, {'name': 'Bhuvnesh Jain'}) <class 'tuple'>\n",
      "(6, (5, 5.6, 6.8)) <class 'tuple'>\n",
      "(7, {1, 2, 4, 6}) <class 'tuple'>\n"
     ]
    }
   ],
   "source": [
    "for i in enumerate(l1):\n",
    "    print(i,type(i))"
   ]
  },
  {
   "cell_type": "code",
   "execution_count": 109,
   "id": "f20a0ee4",
   "metadata": {},
   "outputs": [
    {
     "name": "stdout",
     "output_type": "stream",
     "text": [
      "0 True <class 'bool'>\n",
      "1 False <class 'bool'>\n",
      "2 42 <class 'int'>\n",
      "3 55.88 <class 'float'>\n",
      "4 [1, 2, 3, 4, 5, 6, 7, 8, 9] <class 'list'>\n",
      "5 {'name': 'Bhuvnesh Jain'} <class 'dict'>\n",
      "6 (5, 5.6, 6.8) <class 'tuple'>\n",
      "7 {1, 2, 4, 6} <class 'set'>\n"
     ]
    }
   ],
   "source": [
    "for i,j in enumerate(l1):\n",
    "    print(i,j,type(j))"
   ]
  },
  {
   "cell_type": "code",
   "execution_count": 111,
   "id": "9d9c3d0c",
   "metadata": {},
   "outputs": [
    {
     "name": "stdout",
     "output_type": "stream",
     "text": [
      "True\n",
      "False\n",
      "42\n",
      "55.88\n",
      "[1, 2, 3, 4, 5, 6, 7, 8, 9]\n",
      "{'name': 'Bhuvnesh Jain'}\n",
      "(5, 5.6, 6.8)\n",
      "{1, 2, 4, 6}\n"
     ]
    }
   ],
   "source": [
    "for i,j in enumerate(l1):\n",
    "    print(j)"
   ]
  },
  {
   "cell_type": "code",
   "execution_count": 112,
   "id": "48891fec",
   "metadata": {},
   "outputs": [
    {
     "name": "stdout",
     "output_type": "stream",
     "text": [
      "This is integer : 42\n"
     ]
    }
   ],
   "source": [
    "for i,j in enumerate(l1):\n",
    "    if type(j)==int:\n",
    "        print(f\"This is integer : {j}\")"
   ]
  },
  {
   "cell_type": "code",
   "execution_count": 113,
   "id": "c24b3f00",
   "metadata": {},
   "outputs": [
    {
     "name": "stdout",
     "output_type": "stream",
     "text": [
      "This is Boolean : True\n",
      "This is Boolean : False\n",
      "It is not Boolean : 42\n",
      "It is not Boolean : 55.88\n",
      "It is not Boolean : [1, 2, 3, 4, 5, 6, 7, 8, 9]\n",
      "It is not Boolean : {'name': 'Bhuvnesh Jain'}\n",
      "It is not Boolean : (5, 5.6, 6.8)\n",
      "It is not Boolean : {1, 2, 4, 6}\n"
     ]
    }
   ],
   "source": [
    "for i,j in enumerate(l1):\n",
    "    if type(j)==bool:\n",
    "        print(f\"This is Boolean : {j}\")\n",
    "    else:\n",
    "        print(f\"It is not Boolean : {j}\")"
   ]
  },
  {
   "cell_type": "code",
   "execution_count": 115,
   "id": "bb8e2705",
   "metadata": {},
   "outputs": [
    {
     "name": "stdout",
     "output_type": "stream",
     "text": [
      "This is Boolean : True\n",
      "This is Boolean : False\n",
      "It is Integer : 42\n",
      "It is Float : 55.88\n",
      "It is List : [1, 2, 3, 4, 5, 6, 7, 8, 9]\n",
      "It is Dictionary : {'name': 'Bhuvnesh Jain'}\n",
      "It is Tuple : (5, 5.6, 6.8)\n",
      "It is Set : {1, 2, 4, 6}\n"
     ]
    }
   ],
   "source": [
    "for i,j in enumerate(l1):\n",
    "    if type(j)==bool:\n",
    "        print(f\"This is Boolean : {j}\")\n",
    "    elif type(j)==int:\n",
    "        print(f\"It is Integer : {j}\")\n",
    "    elif type(j)==tuple:\n",
    "        print(f\"It is Tuple : {j}\")\n",
    "    elif type(j)==set:\n",
    "        print(f\"It is Set : {j}\")\n",
    "    elif type(j)==list:\n",
    "        print(f\"It is List : {j}\")\n",
    "    elif type(j)==float:\n",
    "        print(f\"It is Float : {j}\")\n",
    "    else:\n",
    "        print(f\"It is Dictionary : {j}\")"
   ]
  },
  {
   "cell_type": "code",
   "execution_count": 118,
   "id": "0546e677",
   "metadata": {},
   "outputs": [
    {
     "name": "stdout",
     "output_type": "stream",
     "text": [
      "This is Boolean : True\n",
      "This is Boolean : False\n",
      "It is Integer (add 2) : 44\n",
      "It is Float (add 5) : 60.88\n",
      "It is List (find sum) : 45\n",
      "It is Dictionary (items) : dict_items([('name', 'Bhuvnesh Jain')])\n",
      "It is Dictionary (items) : dict_keys(['name'])\n",
      "It is Dictionary (items) : dict_values(['Bhuvnesh Jain'])\n",
      "It is Tuple (find max): 6.8\n",
      "It is Set (find min) : 1\n"
     ]
    }
   ],
   "source": [
    "for i,j in enumerate(l1):\n",
    "    if type(j)==bool:\n",
    "        print(f\"This is Boolean : {j}\")\n",
    "    elif type(j)==int:\n",
    "        print(f\"It is Integer (add 2) : {j+2}\")\n",
    "    elif type(j)==tuple:\n",
    "        print(f\"It is Tuple (find max): {max(j)}\")\n",
    "    elif type(j)==set:\n",
    "        print(f\"It is Set (find min) : {min(j)}\")\n",
    "    elif type(j)==list:\n",
    "        print(f\"It is List (find sum) : {sum(j)}\")\n",
    "    elif type(j)==float:\n",
    "        print(f\"It is Float (add 5) : {j+5}\")\n",
    "    else:\n",
    "        print(f\"It is Dictionary (items) : {j.items()}\")\n",
    "        print(f\"It is Dictionary (items) : {j.keys()}\")\n",
    "        print(f\"It is Dictionary (items) : {j.values()}\")"
   ]
  },
  {
   "cell_type": "code",
   "execution_count": 120,
   "id": "c59730b9",
   "metadata": {},
   "outputs": [
    {
     "data": {
      "text/plain": [
       "['Mango', 'Banana', 'Grapes', 'Chilli', 'Orange', 'Papaya']"
      ]
     },
     "execution_count": 120,
     "metadata": {},
     "output_type": "execute_result"
    }
   ],
   "source": [
    "# List Comprehension\n",
    "[i for i in items]"
   ]
  },
  {
   "cell_type": "code",
   "execution_count": 122,
   "id": "dbbf66c4",
   "metadata": {},
   "outputs": [
    {
     "data": {
      "text/plain": [
       "['This is Mango',\n",
       " 'This is Banana',\n",
       " 'This is Grapes',\n",
       " 'This is Chilli',\n",
       " 'This is Orange',\n",
       " 'This is Papaya']"
      ]
     },
     "execution_count": 122,
     "metadata": {},
     "output_type": "execute_result"
    }
   ],
   "source": [
    "[f\"This is {i}\" for i in items]"
   ]
  },
  {
   "cell_type": "code",
   "execution_count": 124,
   "id": "f1750ab9",
   "metadata": {},
   "outputs": [
    {
     "data": {
      "text/plain": [
       "['This is : Banana']"
      ]
     },
     "execution_count": 124,
     "metadata": {},
     "output_type": "execute_result"
    }
   ],
   "source": [
    "[f\"This is : {i}\" for i in items if i.startswith('B')]"
   ]
  },
  {
   "cell_type": "code",
   "execution_count": 134,
   "id": "c97a1bd3",
   "metadata": {},
   "outputs": [
    {
     "data": {
      "text/plain": [
       "'Mango-->Banana-->Grapes-->Chilli-->Orange-->Papaya'"
      ]
     },
     "execution_count": 134,
     "metadata": {},
     "output_type": "execute_result"
    }
   ],
   "source": [
    "'-->'.join(items)"
   ]
  },
  {
   "cell_type": "code",
   "execution_count": 136,
   "id": "131d616e",
   "metadata": {},
   "outputs": [],
   "source": [
    "# matrix concept\n",
    "lst=[\n",
    "    [1,2,3],\n",
    "    [3,4,5],\n",
    "    [5,6,7]\n",
    "]"
   ]
  },
  {
   "cell_type": "code",
   "execution_count": 137,
   "id": "e51e9b86",
   "metadata": {},
   "outputs": [
    {
     "data": {
      "text/plain": [
       "[[1, 2, 3], [3, 4, 5], [5, 6, 7]]"
      ]
     },
     "execution_count": 137,
     "metadata": {},
     "output_type": "execute_result"
    }
   ],
   "source": [
    "lst"
   ]
  },
  {
   "cell_type": "code",
   "execution_count": 138,
   "id": "7f81458e",
   "metadata": {},
   "outputs": [
    {
     "data": {
      "text/plain": [
       "[1, 2, 3]"
      ]
     },
     "execution_count": 138,
     "metadata": {},
     "output_type": "execute_result"
    }
   ],
   "source": [
    "lst[0]"
   ]
  },
  {
   "cell_type": "code",
   "execution_count": 139,
   "id": "8fe6d9a5",
   "metadata": {},
   "outputs": [
    {
     "data": {
      "text/plain": [
       "12"
      ]
     },
     "execution_count": 139,
     "metadata": {},
     "output_type": "execute_result"
    }
   ],
   "source": [
    "sum(lst[1])"
   ]
  },
  {
   "cell_type": "code",
   "execution_count": 141,
   "id": "2302618d",
   "metadata": {},
   "outputs": [
    {
     "data": {
      "text/plain": [
       "[[1, 2, 3], [3, 4, 5], [5, 6, 7]]"
      ]
     },
     "execution_count": 141,
     "metadata": {},
     "output_type": "execute_result"
    }
   ],
   "source": [
    "[i for i in lst]"
   ]
  },
  {
   "cell_type": "code",
   "execution_count": 142,
   "id": "55aa66f7",
   "metadata": {},
   "outputs": [
    {
     "data": {
      "text/plain": [
       "[3, 3, 3]"
      ]
     },
     "execution_count": 142,
     "metadata": {},
     "output_type": "execute_result"
    }
   ],
   "source": [
    "[len(i) for i in lst]"
   ]
  },
  {
   "cell_type": "code",
   "execution_count": 143,
   "id": "bb3fa003",
   "metadata": {},
   "outputs": [
    {
     "data": {
      "text/plain": [
       "[6, 12, 18]"
      ]
     },
     "execution_count": 143,
     "metadata": {},
     "output_type": "execute_result"
    }
   ],
   "source": [
    "[sum(i) for i in lst]"
   ]
  },
  {
   "cell_type": "code",
   "execution_count": null,
   "id": "3787746a",
   "metadata": {},
   "outputs": [],
   "source": []
  }
 ],
 "metadata": {
  "kernelspec": {
   "display_name": "Python 3 (ipykernel)",
   "language": "python",
   "name": "python3"
  },
  "language_info": {
   "codemirror_mode": {
    "name": "ipython",
    "version": 3
   },
   "file_extension": ".py",
   "mimetype": "text/x-python",
   "name": "python",
   "nbconvert_exporter": "python",
   "pygments_lexer": "ipython3",
   "version": "3.9.6"
  }
 },
 "nbformat": 4,
 "nbformat_minor": 5
}
