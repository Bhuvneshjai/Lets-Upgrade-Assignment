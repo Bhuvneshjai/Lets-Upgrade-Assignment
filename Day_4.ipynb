{
 "cells": [
  {
   "cell_type": "code",
   "execution_count": 1,
   "id": "6fead3e9",
   "metadata": {},
   "outputs": [],
   "source": [
    "# functions\n",
    "def introduction(name,age,course):\n",
    "    print(f\"Hello {name}\")\n",
    "    print(\"Welcome To My Python Function\")\n",
    "    print(f\"I am {name} and my age is {age} years old.\")\n",
    "    print(f\"I Chosse the course {course}\")"
   ]
  },
  {
   "cell_type": "code",
   "execution_count": 2,
   "id": "5853d0f0",
   "metadata": {},
   "outputs": [
    {
     "name": "stdout",
     "output_type": "stream",
     "text": [
      "<class 'function'>\n"
     ]
    }
   ],
   "source": [
    "print(type(introduction))"
   ]
  },
  {
   "cell_type": "code",
   "execution_count": 4,
   "id": "8d27fd2f",
   "metadata": {},
   "outputs": [
    {
     "name": "stdout",
     "output_type": "stream",
     "text": [
      "Hello Bhuvnesh\n",
      "Welcome To My Python Function\n",
      "I am Bhuvnesh and my age is 21 years old.\n",
      "I Chosse the course B.tech CSE AI+ML+DL\n"
     ]
    }
   ],
   "source": [
    "# calling the function\n",
    "introduction('Bhuvnesh',21,'B.tech CSE AI+ML+DL')"
   ]
  },
  {
   "cell_type": "code",
   "execution_count": 8,
   "id": "dedeabbb",
   "metadata": {},
   "outputs": [],
   "source": [
    "def lst(l):\n",
    "    for i in l:\n",
    "        print(f\"My name is : {i}\")"
   ]
  },
  {
   "cell_type": "code",
   "execution_count": 9,
   "id": "a74547e5",
   "metadata": {},
   "outputs": [
    {
     "name": "stdout",
     "output_type": "stream",
     "text": [
      "My name is : Samyak\n",
      "My name is : Sonu\n",
      "My name is : Prachi\n",
      "My name is : Riya\n",
      "My name is : Shivani\n"
     ]
    }
   ],
   "source": [
    "l1 = ['Samyak','Sonu','Prachi','Riya','Shivani']\n",
    "lst(l1) #calling the function"
   ]
  },
  {
   "cell_type": "code",
   "execution_count": 12,
   "id": "372f77a4",
   "metadata": {},
   "outputs": [],
   "source": [
    "def num(l):\n",
    "    print(f\"Sum of List {l} is {sum(l)}\")\n",
    "    print(f\"Max No. in the List {l} is {max(l)}\")\n",
    "    print(f\"Min No. in the List {l} is {min(l)}\")"
   ]
  },
  {
   "cell_type": "code",
   "execution_count": 13,
   "id": "3db3b898",
   "metadata": {},
   "outputs": [
    {
     "name": "stdout",
     "output_type": "stream",
     "text": [
      "Sum of List [1, 2, 3, 4, 5] is 15\n",
      "Max No. in the List [1, 2, 3, 4, 5] is 5\n",
      "Min No. in the List [1, 2, 3, 4, 5] is 1\n"
     ]
    }
   ],
   "source": [
    "num([1,2,3,4,5])"
   ]
  },
  {
   "cell_type": "code",
   "execution_count": 14,
   "id": "ffdd131b",
   "metadata": {},
   "outputs": [],
   "source": [
    "def var():\n",
    "    a = \"Python Zero To Hero\"\n",
    "    print(f\"My Program is : {a}\")"
   ]
  },
  {
   "cell_type": "code",
   "execution_count": 15,
   "id": "0c7e3538",
   "metadata": {},
   "outputs": [
    {
     "name": "stdout",
     "output_type": "stream",
     "text": [
      "My Program is : Python Zero To Hero\n"
     ]
    }
   ],
   "source": [
    "var()"
   ]
  },
  {
   "cell_type": "code",
   "execution_count": 16,
   "id": "fc65104b",
   "metadata": {},
   "outputs": [],
   "source": [
    "def s1(l):\n",
    "    print(f\"Sum Of List {l} is {sum(l)}\")"
   ]
  },
  {
   "cell_type": "code",
   "execution_count": 17,
   "id": "2ff4b66f",
   "metadata": {},
   "outputs": [
    {
     "name": "stdout",
     "output_type": "stream",
     "text": [
      "Sum Of List [1, 2, 3, 4, 5, 6, 7, 8, 9, 10] is 55\n"
     ]
    }
   ],
   "source": [
    "s1([1,2,3,4,5,6,7,8,9,10])"
   ]
  },
  {
   "cell_type": "code",
   "execution_count": 18,
   "id": "7197040f",
   "metadata": {},
   "outputs": [
    {
     "name": "stdout",
     "output_type": "stream",
     "text": [
      "Sum Of List [1, 2, 3, 4, 5, 6, 7] is 28\n"
     ]
    }
   ],
   "source": [
    "lst1 = [1,2,3,4,5,6,7]\n",
    "s1(lst1)"
   ]
  },
  {
   "cell_type": "code",
   "execution_count": 20,
   "id": "eea5ed95",
   "metadata": {},
   "outputs": [
    {
     "name": "stdout",
     "output_type": "stream",
     "text": [
      "Sum Of List [1, 2, 3, 4, 5, 6, 7] is 28\n"
     ]
    }
   ],
   "source": [
    "sum1 = s1(lst1)\n"
   ]
  },
  {
   "cell_type": "code",
   "execution_count": 21,
   "id": "f600890a",
   "metadata": {},
   "outputs": [
    {
     "name": "stdout",
     "output_type": "stream",
     "text": [
      "None\n"
     ]
    }
   ],
   "source": [
    "print(sum1)"
   ]
  },
  {
   "cell_type": "code",
   "execution_count": 23,
   "id": "5c845bfb",
   "metadata": {},
   "outputs": [],
   "source": [
    "# Define a function with return (it does not throw None)\n",
    "def s2(l):\n",
    "    return sum(l)"
   ]
  },
  {
   "cell_type": "code",
   "execution_count": 24,
   "id": "cf9a9446",
   "metadata": {},
   "outputs": [
    {
     "data": {
      "text/plain": [
       "66"
      ]
     },
     "execution_count": 24,
     "metadata": {},
     "output_type": "execute_result"
    }
   ],
   "source": [
    "s2([11,22,33])"
   ]
  },
  {
   "cell_type": "code",
   "execution_count": 25,
   "id": "4e4ee9c5",
   "metadata": {},
   "outputs": [
    {
     "name": "stdout",
     "output_type": "stream",
     "text": [
      "<function s2 at 0x000001F93BC02670>\n"
     ]
    }
   ],
   "source": [
    "print(s2)"
   ]
  },
  {
   "cell_type": "code",
   "execution_count": 26,
   "id": "82b54ff3",
   "metadata": {},
   "outputs": [],
   "source": [
    "a1 = s2([2,3,4])"
   ]
  },
  {
   "cell_type": "code",
   "execution_count": 27,
   "id": "b397c244",
   "metadata": {},
   "outputs": [
    {
     "name": "stdout",
     "output_type": "stream",
     "text": [
      "9\n"
     ]
    }
   ],
   "source": [
    "print(a1)"
   ]
  },
  {
   "cell_type": "code",
   "execution_count": 28,
   "id": "58db83ee",
   "metadata": {},
   "outputs": [
    {
     "name": "stdout",
     "output_type": "stream",
     "text": [
      "[22, 33, 44]\n"
     ]
    }
   ],
   "source": [
    "ls = [22,33,44]\n",
    "print(ls)"
   ]
  },
  {
   "cell_type": "code",
   "execution_count": 29,
   "id": "fa4cd8c9",
   "metadata": {},
   "outputs": [
    {
     "data": {
      "text/plain": [
       "99"
      ]
     },
     "execution_count": 29,
     "metadata": {},
     "output_type": "execute_result"
    }
   ],
   "source": [
    "s2(ls)"
   ]
  },
  {
   "cell_type": "code",
   "execution_count": 30,
   "id": "5a688e7f",
   "metadata": {},
   "outputs": [],
   "source": [
    "lst3 = s2(ls)"
   ]
  },
  {
   "cell_type": "code",
   "execution_count": 31,
   "id": "85ccb4bd",
   "metadata": {},
   "outputs": [
    {
     "name": "stdout",
     "output_type": "stream",
     "text": [
      "99\n"
     ]
    }
   ],
   "source": [
    "print(lst3)"
   ]
  },
  {
   "cell_type": "code",
   "execution_count": 32,
   "id": "3f1fecdf",
   "metadata": {},
   "outputs": [
    {
     "name": "stdout",
     "output_type": "stream",
     "text": [
      "198\n"
     ]
    }
   ],
   "source": [
    "print(lst3*2)"
   ]
  },
  {
   "cell_type": "code",
   "execution_count": 34,
   "id": "4951ff51",
   "metadata": {},
   "outputs": [],
   "source": [
    "# Without Return\n",
    "def intro_wo_return(name,age,location):\n",
    "    print(name,age,location)"
   ]
  },
  {
   "cell_type": "code",
   "execution_count": 35,
   "id": "e806e12b",
   "metadata": {},
   "outputs": [
    {
     "name": "stdout",
     "output_type": "stream",
     "text": [
      "Samyak 21 Tundla\n"
     ]
    }
   ],
   "source": [
    "intro_wo_return('Samyak',21,'Tundla')"
   ]
  },
  {
   "cell_type": "code",
   "execution_count": 37,
   "id": "dc1baa28",
   "metadata": {},
   "outputs": [
    {
     "name": "stdout",
     "output_type": "stream",
     "text": [
      "Miss Prachi 19 Dauji\n",
      "None\n"
     ]
    }
   ],
   "source": [
    "a22 = intro_wo_return('Miss Prachi',19,'Dauji')\n",
    "print(a22)"
   ]
  },
  {
   "cell_type": "code",
   "execution_count": 38,
   "id": "e55e076a",
   "metadata": {},
   "outputs": [],
   "source": [
    "# With Return\n",
    "def intro_w_return(name,age,location):\n",
    "    return name,age,location"
   ]
  },
  {
   "cell_type": "code",
   "execution_count": 39,
   "id": "d07e308a",
   "metadata": {},
   "outputs": [
    {
     "data": {
      "text/plain": [
       "('Riya', 18, 'Kanpur')"
      ]
     },
     "execution_count": 39,
     "metadata": {},
     "output_type": "execute_result"
    }
   ],
   "source": [
    "intro_w_return('Riya',18,'Kanpur')"
   ]
  },
  {
   "cell_type": "code",
   "execution_count": 41,
   "id": "f72f51b3",
   "metadata": {},
   "outputs": [
    {
     "name": "stdout",
     "output_type": "stream",
     "text": [
      "('Shruti', 17, 'Postal')\n"
     ]
    }
   ],
   "source": [
    "a33 = intro_w_return('Shruti',17,'Postal')\n",
    "print(a33)"
   ]
  },
  {
   "cell_type": "code",
   "execution_count": 43,
   "id": "50af922e",
   "metadata": {},
   "outputs": [
    {
     "name": "stdout",
     "output_type": "stream",
     "text": [
      "Shruti\n",
      "17\n",
      "Postal\n"
     ]
    }
   ],
   "source": [
    "# Unpacking\n",
    "n,a,l = a33\n",
    "print(n)\n",
    "print(a)\n",
    "print(l)"
   ]
  },
  {
   "cell_type": "code",
   "execution_count": 44,
   "id": "3aab52bf",
   "metadata": {},
   "outputs": [
    {
     "name": "stdout",
     "output_type": "stream",
     "text": [
      "Riya\n",
      "18\n",
      "Kanpur\n"
     ]
    }
   ],
   "source": [
    "n,a,l = intro_w_return('Riya',18,'Kanpur')\n",
    "print(n)\n",
    "print(a)\n",
    "print(l)"
   ]
  },
  {
   "cell_type": "code",
   "execution_count": 45,
   "id": "5a0e3247",
   "metadata": {},
   "outputs": [],
   "source": [
    "def add_1(a):\n",
    "    return a+a"
   ]
  },
  {
   "cell_type": "code",
   "execution_count": 49,
   "id": "25b3df56",
   "metadata": {},
   "outputs": [
    {
     "name": "stdout",
     "output_type": "stream",
     "text": [
      "Original elements are 1 and add its own value    in these items ::: 2\n",
      "Original elements are 2 and add its own value    in these items ::: 4\n",
      "Original elements are 3 and add its own value    in these items ::: 6\n",
      "Original elements are 4 and add its own value    in these items ::: 8\n",
      "Original elements are 5 and add its own value    in these items ::: 10\n",
      "Original elements are 6 and add its own value    in these items ::: 12\n",
      "Original elements are 7 and add its own value    in these items ::: 14\n",
      "Original elements are 8 and add its own value    in these items ::: 16\n"
     ]
    }
   ],
   "source": [
    "items = [1,2,3,4,5,6,7,8]\n",
    "for eachitems in items:\n",
    "    print(f\"Original elements are {eachitems} and add its own value\\\n",
    "    in these items ::: {add_1(eachitems)}\")"
   ]
  },
  {
   "cell_type": "code",
   "execution_count": 54,
   "id": "2c6f5d74",
   "metadata": {},
   "outputs": [],
   "source": [
    "def add_2(a):\n",
    "    return a+2"
   ]
  },
  {
   "cell_type": "code",
   "execution_count": 55,
   "id": "d219e2a6",
   "metadata": {},
   "outputs": [
    {
     "name": "stdout",
     "output_type": "stream",
     "text": [
      "Original elements are 1 and add 2 in these items     ::: 3\n",
      "Original elements are 2 and add 2 in these items     ::: 4\n",
      "Original elements are 3 and add 2 in these items     ::: 5\n",
      "Original elements are 4 and add 2 in these items     ::: 6\n",
      "Original elements are 5 and add 2 in these items     ::: 7\n",
      "Original elements are 6 and add 2 in these items     ::: 8\n",
      "Original elements are 7 and add 2 in these items     ::: 9\n",
      "Original elements are 8 and add 2 in these items     ::: 10\n"
     ]
    }
   ],
   "source": [
    "items1 = [1,2,3,4,5,6,7,8]\n",
    "for eachitems in items1:\n",
    "    print(f\"Original elements are {eachitems} and add 2 in these items \\\n",
    "    ::: {add_2(eachitems)}\")"
   ]
  },
  {
   "cell_type": "code",
   "execution_count": 57,
   "id": "d5e1a3ee",
   "metadata": {},
   "outputs": [
    {
     "name": "stdout",
     "output_type": "stream",
     "text": [
      "Add 65+2 : 67\n"
     ]
    }
   ],
   "source": [
    "print(f\"Add 65+2 : {add_2(65)}\")"
   ]
  },
  {
   "cell_type": "code",
   "execution_count": 58,
   "id": "61f5a90d",
   "metadata": {},
   "outputs": [],
   "source": [
    "def introduce(Greet):\n",
    "    return f\"{Greet} sir ! Have a Nice Day\"\n"
   ]
  },
  {
   "cell_type": "code",
   "execution_count": 59,
   "id": "b742e55d",
   "metadata": {},
   "outputs": [
    {
     "data": {
      "text/plain": [
       "'Good Morning sir ! Have a Nice Day'"
      ]
     },
     "execution_count": 59,
     "metadata": {},
     "output_type": "execute_result"
    }
   ],
   "source": [
    "introduce('Good Morning')"
   ]
  },
  {
   "cell_type": "code",
   "execution_count": 60,
   "id": "10f55484",
   "metadata": {},
   "outputs": [
    {
     "name": "stdout",
     "output_type": "stream",
     "text": [
      "Samyak sir ! Have a Nice Day\n"
     ]
    }
   ],
   "source": [
    "print(introduce('Samyak'))"
   ]
  },
  {
   "cell_type": "code",
   "execution_count": 63,
   "id": "041e2b2c",
   "metadata": {},
   "outputs": [
    {
     "name": "stdout",
     "output_type": "stream",
     "text": [
      "Bhuvi sir ! Have a Nice Day\n"
     ]
    }
   ],
   "source": [
    "a12 = introduce('Bhuvi')\n",
    "print(a12)"
   ]
  },
  {
   "cell_type": "code",
   "execution_count": 64,
   "id": "552c7770",
   "metadata": {},
   "outputs": [
    {
     "name": "stdout",
     "output_type": "stream",
     "text": [
      "0\n",
      "1\n",
      "2\n",
      "3\n",
      "4\n",
      "5\n",
      "6\n",
      "7\n",
      "8\n",
      "9\n"
     ]
    }
   ],
   "source": [
    "# while loop\n",
    "a = 0\n",
    "while a<10:\n",
    "    print(a)\n",
    "    a = a+1"
   ]
  },
  {
   "cell_type": "code",
   "execution_count": 65,
   "id": "0c39202d",
   "metadata": {},
   "outputs": [
    {
     "name": "stdout",
     "output_type": "stream",
     "text": [
      "0\n",
      "2\n",
      "4\n",
      "6\n",
      "8\n"
     ]
    }
   ],
   "source": [
    "a = 0\n",
    "while a<10:\n",
    "    print(a)\n",
    "    a+=2"
   ]
  },
  {
   "cell_type": "code",
   "execution_count": 66,
   "id": "0d16c2ca",
   "metadata": {},
   "outputs": [
    {
     "name": "stdout",
     "output_type": "stream",
     "text": [
      "20\n",
      "18\n",
      "16\n",
      "14\n",
      "12\n",
      "10\n",
      "8\n",
      "6\n",
      "4\n",
      "2\n"
     ]
    }
   ],
   "source": [
    "a = 20\n",
    "while a>0:\n",
    "    print(a)\n",
    "    a-=2"
   ]
  },
  {
   "cell_type": "code",
   "execution_count": 67,
   "id": "757b6cff",
   "metadata": {},
   "outputs": [
    {
     "name": "stdout",
     "output_type": "stream",
     "text": [
      "<function <lambda> at 0x000001F93BB1EB80>\n"
     ]
    }
   ],
   "source": [
    "# lambda function\n",
    "x = lambda a:a*5\n",
    "print(x)"
   ]
  },
  {
   "cell_type": "code",
   "execution_count": 68,
   "id": "456c5619",
   "metadata": {},
   "outputs": [
    {
     "name": "stdout",
     "output_type": "stream",
     "text": [
      "10\n"
     ]
    }
   ],
   "source": [
    "print(x(2)) #lambda can take any no. of arguments but have only one expression"
   ]
  },
  {
   "cell_type": "code",
   "execution_count": 69,
   "id": "e4387663",
   "metadata": {},
   "outputs": [
    {
     "data": {
      "text/plain": [
       "20"
      ]
     },
     "execution_count": 69,
     "metadata": {},
     "output_type": "execute_result"
    }
   ],
   "source": [
    "x(4) #lambda arguments: expression"
   ]
  },
  {
   "cell_type": "code",
   "execution_count": 70,
   "id": "f65669fa",
   "metadata": {},
   "outputs": [
    {
     "name": "stdout",
     "output_type": "stream",
     "text": [
      "<function <lambda> at 0x000001F93BC27310>\n"
     ]
    }
   ],
   "source": [
    "y = lambda a,b,c : a+b+c\n",
    "print(y)"
   ]
  },
  {
   "cell_type": "code",
   "execution_count": 71,
   "id": "692c56e1",
   "metadata": {},
   "outputs": [
    {
     "name": "stdout",
     "output_type": "stream",
     "text": [
      "9\n"
     ]
    }
   ],
   "source": [
    "print(y(2,3,4))"
   ]
  },
  {
   "cell_type": "code",
   "execution_count": 72,
   "id": "511fdfef",
   "metadata": {},
   "outputs": [],
   "source": [
    "# lamda function is anonymous function\n",
    "def func(n):\n",
    "    return lambda a:a*n"
   ]
  },
  {
   "cell_type": "code",
   "execution_count": 73,
   "id": "b4d282fa",
   "metadata": {},
   "outputs": [
    {
     "name": "stdout",
     "output_type": "stream",
     "text": [
      "<function func.<locals>.<lambda> at 0x000001F93BC273A0>\n"
     ]
    }
   ],
   "source": [
    "print(func(n))"
   ]
  },
  {
   "cell_type": "code",
   "execution_count": 79,
   "id": "69b9d37f",
   "metadata": {},
   "outputs": [
    {
     "name": "stdout",
     "output_type": "stream",
     "text": [
      "<function func.<locals>.<lambda> at 0x000001F93BC271F0>\n"
     ]
    }
   ],
   "source": [
    "my1 = func(2)\n",
    "print(my1)"
   ]
  },
  {
   "cell_type": "code",
   "execution_count": 80,
   "id": "feb3f936",
   "metadata": {},
   "outputs": [
    {
     "name": "stdout",
     "output_type": "stream",
     "text": [
      "6\n"
     ]
    }
   ],
   "source": [
    "my2 = my1(3)\n",
    "print(my2)"
   ]
  },
  {
   "cell_type": "code",
   "execution_count": 121,
   "id": "b08db26f",
   "metadata": {},
   "outputs": [
    {
     "name": "stdout",
     "output_type": "stream",
     "text": [
      "* \r\n",
      "* * \r\n",
      "* * * \r\n",
      "* * * * \r\n",
      "* * * * * \r\n"
     ]
    }
   ],
   "source": [
    "row = 5\n",
    "for i in range(0,row):\n",
    "    for j in range(0,i+1):\n",
    "        print(\"*\",end=\" \")\n",
    "    print('\\r')"
   ]
  },
  {
   "cell_type": "code",
   "execution_count": 127,
   "id": "57fa91d2",
   "metadata": {},
   "outputs": [
    {
     "name": "stdout",
     "output_type": "stream",
     "text": [
      "* * * * * \r\n",
      "* * * * \r\n",
      "* * * \r\n",
      "* * \r\n",
      "* \r\n"
     ]
    }
   ],
   "source": [
    "row = 5\n",
    "for i in range(0,row):\n",
    "    for j in range(i,row):\n",
    "        print(\"*\",end=\" \")\n",
    "    print('\\r')"
   ]
  },
  {
   "cell_type": "code",
   "execution_count": 140,
   "id": "e07e538f",
   "metadata": {},
   "outputs": [
    {
     "name": "stdout",
     "output_type": "stream",
     "text": [
      "1 \r\n",
      "2 2 \r\n",
      "3 3 3 \r\n",
      "4 4 4 4 \r\n",
      "5 5 5 5 5 \r\n"
     ]
    }
   ],
   "source": [
    "row = 5\n",
    "for i in range(1,row+1):\n",
    "    for j in range(0,i):\n",
    "        print(i,end=\" \")\n",
    "    print(\"\\r\")"
   ]
  },
  {
   "cell_type": "code",
   "execution_count": 141,
   "id": "349deda3",
   "metadata": {},
   "outputs": [
    {
     "name": "stdout",
     "output_type": "stream",
     "text": [
      "1 \r\n",
      "1 2 \r\n",
      "1 2 3 \r\n",
      "1 2 3 4 \r\n",
      "1 2 3 4 5 \r\n"
     ]
    }
   ],
   "source": [
    "row = 5\n",
    "for i in range(1,row+1):\n",
    "    for j in range(1,i+1):\n",
    "        print(j,end=\" \")\n",
    "    print(\"\\r\")"
   ]
  },
  {
   "cell_type": "code",
   "execution_count": 144,
   "id": "fa42feec",
   "metadata": {},
   "outputs": [
    {
     "name": "stdout",
     "output_type": "stream",
     "text": [
      "1 1 1 1 1 \r\n",
      "2 2 2 2 \r\n",
      "3 3 3 \r\n",
      "4 4 \r\n",
      "5 \r\n"
     ]
    }
   ],
   "source": [
    "row = 5\n",
    "for i in range(1,row+1):\n",
    "    for j in range(i,row+1):\n",
    "        print(i,end=\" \")\n",
    "    print('\\r')"
   ]
  },
  {
   "cell_type": "code",
   "execution_count": 147,
   "id": "8becf053",
   "metadata": {},
   "outputs": [
    {
     "name": "stdout",
     "output_type": "stream",
     "text": [
      "1 2 3 4 5 \r\n",
      "2 3 4 5 \r\n",
      "3 4 5 \r\n",
      "4 5 \r\n",
      "5 \r\n"
     ]
    }
   ],
   "source": [
    "row = 5\n",
    "for i in range(1,row+1):\n",
    "    for j in range(i,row+1):\n",
    "        print(j,end=\" \")\n",
    "    print('\\r')"
   ]
  },
  {
   "cell_type": "code",
   "execution_count": null,
   "id": "723a9cd4",
   "metadata": {},
   "outputs": [],
   "source": []
  }
 ],
 "metadata": {
  "kernelspec": {
   "display_name": "Python 3 (ipykernel)",
   "language": "python",
   "name": "python3"
  },
  "language_info": {
   "codemirror_mode": {
    "name": "ipython",
    "version": 3
   },
   "file_extension": ".py",
   "mimetype": "text/x-python",
   "name": "python",
   "nbconvert_exporter": "python",
   "pygments_lexer": "ipython3",
   "version": "3.9.6"
  }
 },
 "nbformat": 4,
 "nbformat_minor": 5
}
