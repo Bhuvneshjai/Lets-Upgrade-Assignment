{
 "cells": [
  {
   "cell_type": "code",
   "execution_count": 1,
   "id": "ccd6a7e8",
   "metadata": {},
   "outputs": [],
   "source": [
    "# function\n",
    "\n",
    "def add_2(a):\n",
    "    return a+2"
   ]
  },
  {
   "cell_type": "code",
   "execution_count": 2,
   "id": "4cffc4f5",
   "metadata": {},
   "outputs": [
    {
     "data": {
      "text/plain": [
       "5"
      ]
     },
     "execution_count": 2,
     "metadata": {},
     "output_type": "execute_result"
    }
   ],
   "source": [
    "# calling \n",
    "\n",
    "add_2(3)"
   ]
  },
  {
   "cell_type": "code",
   "execution_count": 3,
   "id": "7fb57b40",
   "metadata": {},
   "outputs": [
    {
     "name": "stdout",
     "output_type": "stream",
     "text": [
      "6\n"
     ]
    }
   ],
   "source": [
    "print(add_2(4))"
   ]
  },
  {
   "cell_type": "code",
   "execution_count": 4,
   "id": "dfc7e31f",
   "metadata": {},
   "outputs": [
    {
     "data": {
      "text/plain": [
       "8"
      ]
     },
     "execution_count": 4,
     "metadata": {},
     "output_type": "execute_result"
    }
   ],
   "source": [
    "# lambda is a one line code of function and we define function by using lambda\n",
    "# keyword\n",
    "\n",
    "y = lambda a:a+5\n",
    "y(3)"
   ]
  },
  {
   "cell_type": "code",
   "execution_count": 5,
   "id": "edbfd20c",
   "metadata": {},
   "outputs": [
    {
     "name": "stdout",
     "output_type": "stream",
     "text": [
      "10\n"
     ]
    }
   ],
   "source": [
    "print(y(5))"
   ]
  },
  {
   "cell_type": "code",
   "execution_count": 6,
   "id": "4af93fd3",
   "metadata": {},
   "outputs": [
    {
     "data": {
      "text/plain": [
       "<function __main__.<lambda>(a)>"
      ]
     },
     "execution_count": 6,
     "metadata": {},
     "output_type": "execute_result"
    }
   ],
   "source": [
    "y"
   ]
  },
  {
   "cell_type": "code",
   "execution_count": 7,
   "id": "9c154877",
   "metadata": {},
   "outputs": [
    {
     "name": "stdout",
     "output_type": "stream",
     "text": [
      "<function <lambda> at 0x000001FA0AF1E8B0>\n"
     ]
    }
   ],
   "source": [
    "print(y)"
   ]
  },
  {
   "cell_type": "code",
   "execution_count": 8,
   "id": "aab0d0f2",
   "metadata": {},
   "outputs": [
    {
     "data": {
      "text/plain": [
       "15"
      ]
     },
     "execution_count": 8,
     "metadata": {},
     "output_type": "execute_result"
    }
   ],
   "source": [
    "def sum_list(a):\n",
    "    return sum(a)\n",
    "\n",
    "sum_list([1,2,3,4,5])"
   ]
  },
  {
   "cell_type": "code",
   "execution_count": 9,
   "id": "ef0b7b5b",
   "metadata": {},
   "outputs": [
    {
     "name": "stdout",
     "output_type": "stream",
     "text": [
      "9\n"
     ]
    }
   ],
   "source": [
    "print(sum_list([2,3,4]))"
   ]
  },
  {
   "cell_type": "code",
   "execution_count": 12,
   "id": "b903703a",
   "metadata": {},
   "outputs": [
    {
     "data": {
      "text/plain": [
       "11"
      ]
     },
     "execution_count": 12,
     "metadata": {},
     "output_type": "execute_result"
    }
   ],
   "source": [
    "sum_list_lambda = lambda a:sum(a)\n",
    "\n",
    "sum_list_lambda([2,4,5])"
   ]
  },
  {
   "cell_type": "code",
   "execution_count": 13,
   "id": "4c2bd3ec",
   "metadata": {},
   "outputs": [
    {
     "name": "stdout",
     "output_type": "stream",
     "text": [
      "10\n"
     ]
    }
   ],
   "source": [
    "print(sum_list_lambda([3,2,5]))"
   ]
  },
  {
   "cell_type": "code",
   "execution_count": 14,
   "id": "236dbb48",
   "metadata": {},
   "outputs": [
    {
     "name": "stdout",
     "output_type": "stream",
     "text": [
      "No. is 1\n",
      "No. is 2\n",
      "No. is 3\n",
      "No. is 4\n"
     ]
    }
   ],
   "source": [
    "# list comprehension\n",
    "\n",
    "for i in [1,2,3,4]:\n",
    "    print(f\"No. is {i}\")"
   ]
  },
  {
   "cell_type": "code",
   "execution_count": 15,
   "id": "e7639fdd",
   "metadata": {},
   "outputs": [
    {
     "data": {
      "text/plain": [
       "['No. is 1', 'No. is 2', 'No. is 3', 'No. is 4', 'No. is 5']"
      ]
     },
     "execution_count": 15,
     "metadata": {},
     "output_type": "execute_result"
    }
   ],
   "source": [
    "[f\"No. is {i}\" for i in [1,2,3,4,5]] #It Return in List Format"
   ]
  },
  {
   "cell_type": "code",
   "execution_count": 16,
   "id": "5da208d6",
   "metadata": {},
   "outputs": [
    {
     "name": "stdout",
     "output_type": "stream",
     "text": [
      "['No. is 1', 'No. is 2', 'No. is 3', 'No. is 4', 'No. is 5']\n"
     ]
    }
   ],
   "source": [
    "lst = [f\"No. is {i}\" for i in [1,2,3,4,5]]\n",
    "print(lst)"
   ]
  },
  {
   "cell_type": "code",
   "execution_count": 17,
   "id": "72485039",
   "metadata": {},
   "outputs": [
    {
     "name": "stdout",
     "output_type": "stream",
     "text": [
      "Table of Two Is : 2\n",
      "Table of Two Is : 4\n",
      "Table of Two Is : 6\n",
      "Table of Two Is : 8\n"
     ]
    }
   ],
   "source": [
    "for i in [1,2,3,4,5,6,7,8,9]:\n",
    "    if (i%2==0):\n",
    "        print(f\"Table of Two Is : {i}\")\n",
    "        "
   ]
  },
  {
   "cell_type": "code",
   "execution_count": 20,
   "id": "aea03d39",
   "metadata": {},
   "outputs": [
    {
     "data": {
      "text/plain": [
       "['Table of Two Is : 2',\n",
       " 'Table of Two Is : 4',\n",
       " 'Table of Two Is : 6',\n",
       " 'Table of Two Is : 8',\n",
       " 'Table of Two Is : 0']"
      ]
     },
     "execution_count": 20,
     "metadata": {},
     "output_type": "execute_result"
    }
   ],
   "source": [
    "[f\"Table of Two Is : {i}\" for i in [1,2,3,4,5,6,7,8,9,0] if (i%2==0)]"
   ]
  },
  {
   "cell_type": "code",
   "execution_count": 21,
   "id": "30a34cd8",
   "metadata": {},
   "outputs": [
    {
     "name": "stdout",
     "output_type": "stream",
     "text": [
      "It is Not the Table of 3 : 1\n",
      "It is Not the Table of 3 : 2\n",
      "Table of 3 is : 3\n",
      "It is Not the Table of 3 : 4\n",
      "It is Not the Table of 3 : 5\n",
      "Table of 3 is : 6\n",
      "It is Not the Table of 3 : 7\n",
      "It is Not the Table of 3 : 8\n",
      "Table of 3 is : 9\n",
      "It is Not the Table of 3 : 10\n"
     ]
    }
   ],
   "source": [
    "for i in [1,2,3,4,5,6,7,8,9,10]:\n",
    "    if (i%3==0):\n",
    "        print(f\"Table of 3 is : {i}\")\n",
    "    else:\n",
    "        print(f\"It is Not the Table of 3 : {i}\")       "
   ]
  },
  {
   "cell_type": "code",
   "execution_count": 22,
   "id": "aa2e8c55",
   "metadata": {},
   "outputs": [
    {
     "data": {
      "text/plain": [
       "['Table of 3 0',\n",
       " 'Not of 3 1',\n",
       " 'Not of 3 2',\n",
       " 'Table of 3 3',\n",
       " 'Not of 3 4',\n",
       " 'Not of 3 5',\n",
       " 'Table of 3 6',\n",
       " 'Not of 3 7',\n",
       " 'Not of 3 8',\n",
       " 'Table of 3 9']"
      ]
     },
     "execution_count": 22,
     "metadata": {},
     "output_type": "execute_result"
    }
   ],
   "source": [
    "[f\"Table of 3 {i}\" if (i%3==0) else f\"Not of 3 {i}\" for i in range(10)]"
   ]
  },
  {
   "cell_type": "code",
   "execution_count": 31,
   "id": "4b195971",
   "metadata": {},
   "outputs": [],
   "source": [
    "def iterate_over_dict(a):\n",
    "    for key,value in a.items():\n",
    "        print(f\"This is the {key} and its value is {value}\")"
   ]
  },
  {
   "cell_type": "code",
   "execution_count": 32,
   "id": "2f3dc4bf",
   "metadata": {},
   "outputs": [],
   "source": [
    "intro = {\n",
    "    'Name':'Bhuvnesh Jain',\n",
    "    'Course':'Python Zero To Hero',\n",
    "    'Language':{'English', 'Hindi'},\n",
    "    'Location':'India'\n",
    "}"
   ]
  },
  {
   "cell_type": "code",
   "execution_count": 33,
   "id": "10b6ffb3",
   "metadata": {},
   "outputs": [
    {
     "data": {
      "text/plain": [
       "{'Name': 'Bhuvnesh Jain',\n",
       " 'Course': 'Python Zero To Hero',\n",
       " 'Language': {'English', 'Hindi'},\n",
       " 'Location': 'India'}"
      ]
     },
     "execution_count": 33,
     "metadata": {},
     "output_type": "execute_result"
    }
   ],
   "source": [
    "intro"
   ]
  },
  {
   "cell_type": "code",
   "execution_count": 34,
   "id": "3af0d435",
   "metadata": {},
   "outputs": [
    {
     "name": "stdout",
     "output_type": "stream",
     "text": [
      "This is the Name and its value is Bhuvnesh Jain\n",
      "This is the Course and its value is Python Zero To Hero\n",
      "This is the Language and its value is {'English', 'Hindi'}\n",
      "This is the Location and its value is India\n"
     ]
    }
   ],
   "source": [
    "iterate_over_dict(intro)"
   ]
  },
  {
   "cell_type": "code",
   "execution_count": 37,
   "id": "0bb8655b",
   "metadata": {},
   "outputs": [],
   "source": [
    "def iterate_over_dict(a):\n",
    "    for value in a.values():\n",
    "        print(f\"its value is {value}\")"
   ]
  },
  {
   "cell_type": "code",
   "execution_count": 38,
   "id": "c78f65d2",
   "metadata": {},
   "outputs": [
    {
     "name": "stdout",
     "output_type": "stream",
     "text": [
      "its value is Bhuvnesh Jain\n",
      "its value is Python Zero To Hero\n",
      "its value is {'English', 'Hindi'}\n",
      "its value is India\n"
     ]
    }
   ],
   "source": [
    "iterate_over_dict(intro)"
   ]
  },
  {
   "cell_type": "code",
   "execution_count": 39,
   "id": "250e5e0c",
   "metadata": {},
   "outputs": [],
   "source": [
    "def iterate_over_dict(a):\n",
    "    for keys in a.keys():\n",
    "        print(f\"its value is {keys}\")"
   ]
  },
  {
   "cell_type": "code",
   "execution_count": 41,
   "id": "795c7fe9",
   "metadata": {},
   "outputs": [
    {
     "name": "stdout",
     "output_type": "stream",
     "text": [
      "its value is Name\n",
      "its value is Course\n",
      "its value is Language\n",
      "its value is Location\n"
     ]
    }
   ],
   "source": [
    "iterate_over_dict(intro)"
   ]
  },
  {
   "cell_type": "code",
   "execution_count": 43,
   "id": "5c86e38f",
   "metadata": {},
   "outputs": [],
   "source": [
    "def iterate_over_dict(a):\n",
    "    for items in a:\n",
    "        print(f\"its value is {items}\")"
   ]
  },
  {
   "cell_type": "code",
   "execution_count": 44,
   "id": "42788301",
   "metadata": {},
   "outputs": [
    {
     "name": "stdout",
     "output_type": "stream",
     "text": [
      "its value is Name\n",
      "its value is Course\n",
      "its value is Language\n",
      "its value is Location\n"
     ]
    }
   ],
   "source": [
    "iterate_over_dict(intro)"
   ]
  },
  {
   "cell_type": "code",
   "execution_count": 47,
   "id": "0bed86d7",
   "metadata": {},
   "outputs": [
    {
     "data": {
      "text/plain": [
       "['20', '30', '40', '50']"
      ]
     },
     "execution_count": 47,
     "metadata": {},
     "output_type": "execute_result"
    }
   ],
   "source": [
    "lst1 = \"20 30 40 50\"\n",
    "lst1.split()"
   ]
  },
  {
   "cell_type": "code",
   "execution_count": 48,
   "id": "c7d665f0",
   "metadata": {},
   "outputs": [
    {
     "name": "stdout",
     "output_type": "stream",
     "text": [
      "20 30 40 50\n"
     ]
    }
   ],
   "source": [
    "print(lst1)"
   ]
  },
  {
   "cell_type": "code",
   "execution_count": 49,
   "id": "212d1aa0",
   "metadata": {},
   "outputs": [
    {
     "data": {
      "text/plain": [
       "False"
      ]
     },
     "execution_count": 49,
     "metadata": {},
     "output_type": "execute_result"
    }
   ],
   "source": [
    "lst1.isdigit()"
   ]
  },
  {
   "cell_type": "code",
   "execution_count": 50,
   "id": "cf4f4e78",
   "metadata": {},
   "outputs": [
    {
     "name": "stdout",
     "output_type": "stream",
     "text": [
      "False\n"
     ]
    }
   ],
   "source": [
    "print(lst1.isdigit())"
   ]
  },
  {
   "cell_type": "code",
   "execution_count": 65,
   "id": "6d8ef2ad",
   "metadata": {},
   "outputs": [
    {
     "data": {
      "text/plain": [
       "True"
      ]
     },
     "execution_count": 65,
     "metadata": {},
     "output_type": "execute_result"
    }
   ],
   "source": [
    "lst2 = \"22\"\n",
    "lst2.isdigit()"
   ]
  },
  {
   "cell_type": "code",
   "execution_count": 66,
   "id": "371fb56c",
   "metadata": {},
   "outputs": [
    {
     "data": {
      "text/plain": [
       "False"
      ]
     },
     "execution_count": 66,
     "metadata": {},
     "output_type": "execute_result"
    }
   ],
   "source": [
    "lst3 = \"-33\"\n",
    "lst3.isdigit()"
   ]
  },
  {
   "cell_type": "code",
   "execution_count": 69,
   "id": "4b3ad1d0",
   "metadata": {},
   "outputs": [],
   "source": [
    "x1 = ['a','b','c','A','B','C']\n",
    "x1.sort()"
   ]
  },
  {
   "cell_type": "code",
   "execution_count": 70,
   "id": "33a5662e",
   "metadata": {},
   "outputs": [
    {
     "data": {
      "text/plain": [
       "['A', 'B', 'C', 'a', 'b', 'c']"
      ]
     },
     "execution_count": 70,
     "metadata": {},
     "output_type": "execute_result"
    }
   ],
   "source": [
    "x1"
   ]
  },
  {
   "cell_type": "code",
   "execution_count": 71,
   "id": "37d799ce",
   "metadata": {},
   "outputs": [
    {
     "name": "stdout",
     "output_type": "stream",
     "text": [
      "None\n"
     ]
    }
   ],
   "source": [
    "print(x1.sort())"
   ]
  },
  {
   "cell_type": "code",
   "execution_count": 72,
   "id": "5f21c973",
   "metadata": {},
   "outputs": [],
   "source": [
    "import django as dj"
   ]
  },
  {
   "cell_type": "code",
   "execution_count": 73,
   "id": "91c562b1",
   "metadata": {},
   "outputs": [
    {
     "name": "stdout",
     "output_type": "stream",
     "text": [
      "3.2.7\n"
     ]
    }
   ],
   "source": [
    "print(dj.__version__)"
   ]
  },
  {
   "cell_type": "code",
   "execution_count": null,
   "id": "57a4171d",
   "metadata": {},
   "outputs": [],
   "source": []
  }
 ],
 "metadata": {
  "kernelspec": {
   "display_name": "Python 3 (ipykernel)",
   "language": "python",
   "name": "python3"
  },
  "language_info": {
   "codemirror_mode": {
    "name": "ipython",
    "version": 3
   },
   "file_extension": ".py",
   "mimetype": "text/x-python",
   "name": "python",
   "nbconvert_exporter": "python",
   "pygments_lexer": "ipython3",
   "version": "3.9.6"
  }
 },
 "nbformat": 4,
 "nbformat_minor": 5
}
